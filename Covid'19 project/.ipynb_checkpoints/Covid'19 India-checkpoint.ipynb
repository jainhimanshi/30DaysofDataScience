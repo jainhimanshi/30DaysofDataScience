{
 "cells": [
  {
   "cell_type": "markdown",
   "metadata": {},
   "source": [
    "# What is Corona Virus(COVID-19)?\n",
    "Coronavirus is a family of viruses that can cause illness, which can vary from common cold and cough to sometimes more severe disease. SARS-CoV-2 (n-coronavirus) is the new virus of the coronavirus family, which first discovered in 2019, which has not been identified in humans before. It is a contiguous virus which started from Wuhan in December 2019. Which later declared as Pandemic by WHO due to high rate spreads throughout the world. Currently (on date 27 March 2020), this leads to a total of 24K+ Deaths across the globe, including 16K+ deaths alone in Europe.Pandemic is spreading all over the world; it becomes more important to understand about this spread. This NoteBook is an effort to analyze the cumulative data of confirmed, deaths, and recovered cases over time. In this notebook, the main focus is to analyze the spread trend of this virus all over the india."
   ]
  },
  {
   "cell_type": "markdown",
   "metadata": {},
   "source": [
    "# History of COVID-19 in India\n",
    "On January 30, India reported its first case of COVID-19 in Kerala, which rose to three cases by February 3; all were students who had returned from Wuhan, China.No significant rise in cases was seen in the rest of February.\n",
    "\n",
    "On 22 March 2020, India observed a 14-hour voluntary public curfew at the instance of the prime minister Narendra Modi.The government followed it up with lockdowns in 75 districts where COVID cases had occurred as well as all major cities.Further, on 24 March, the prime minister ordered a nationwide lockdown for 21 days, affecting the entire 1.3 billion population of India.\n",
    "\n",
    "The transmission escalated during March, after several cases were reported all over the country, most of which were linked to people with a travel history to affected countries. On 12 March, a 76-year-old man who had returned from Saudi Arabia became the first victim of the virus in the country.On 4 March, 22 new cases came to light, including those of an Italian tourist group with 14 infected members.But number of cases start increasing dramtically after 19th March, but in the month of April it has been its peak.\n",
    "\n",
    "Experts suggest the number of infections could be much higher as India's testing rates are among the lowest in the world.The infection rate of COVID-19 in India is reported to be 1.7, significantly lower than in the worst affected countries."
   ]
  },
  {
   "cell_type": "markdown",
   "metadata": {},
   "source": [
    "# Importing libraries and data :"
   ]
  },
  {
   "cell_type": "code",
   "execution_count": 1,
   "metadata": {},
   "outputs": [],
   "source": [
    "import pandas as pd\n",
    "import seaborn as sns\n",
    "sns.set()\n",
    "import matplotlib.pyplot as plt\n",
    "%matplotlib inline\n",
    "import numpy as np \n",
    "\n",
    "plt.style.use(\"seaborn-talk\")\n",
    "plt.rcParams['figure.figsize'] = 8, 5\n",
    "plt.rcParams['image.cmap'] = 'viridis'\n",
    "\n",
    "from itertools import cycle, islice\n",
    "\n",
    "import warnings\n",
    "warnings.filterwarnings(\"ignore\")\n",
    "import os"
   ]
  },
  {
   "cell_type": "code",
   "execution_count": 2,
   "metadata": {},
   "outputs": [
    {
     "data": {
      "text/html": [
       "<div>\n",
       "<style scoped>\n",
       "    .dataframe tbody tr th:only-of-type {\n",
       "        vertical-align: middle;\n",
       "    }\n",
       "\n",
       "    .dataframe tbody tr th {\n",
       "        vertical-align: top;\n",
       "    }\n",
       "\n",
       "    .dataframe thead th {\n",
       "        text-align: right;\n",
       "    }\n",
       "</style>\n",
       "<table border=\"1\" class=\"dataframe\">\n",
       "  <thead>\n",
       "    <tr style=\"text-align: right;\">\n",
       "      <th></th>\n",
       "      <th>Patient Number</th>\n",
       "      <th>State Patient Number</th>\n",
       "      <th>Date Announced</th>\n",
       "      <th>Estimated Onset Date</th>\n",
       "      <th>Age Bracket</th>\n",
       "      <th>Gender</th>\n",
       "      <th>Detected City</th>\n",
       "      <th>Detected District</th>\n",
       "      <th>Detected State</th>\n",
       "      <th>State code</th>\n",
       "      <th>Current Status</th>\n",
       "      <th>Notes</th>\n",
       "      <th>Contracted from which Patient (Suspected)</th>\n",
       "      <th>Nationality</th>\n",
       "      <th>Type of transmission</th>\n",
       "      <th>Status Change Date</th>\n",
       "      <th>Source_1</th>\n",
       "      <th>Source_2</th>\n",
       "      <th>Source_3</th>\n",
       "      <th>Backup Notes</th>\n",
       "    </tr>\n",
       "  </thead>\n",
       "  <tbody>\n",
       "    <tr>\n",
       "      <th>0</th>\n",
       "      <td>1</td>\n",
       "      <td>KL-TS-P1</td>\n",
       "      <td>30/01/2020</td>\n",
       "      <td>NaN</td>\n",
       "      <td>20</td>\n",
       "      <td>F</td>\n",
       "      <td>Thrissur</td>\n",
       "      <td>Thrissur</td>\n",
       "      <td>Kerala</td>\n",
       "      <td>KL</td>\n",
       "      <td>Recovered</td>\n",
       "      <td>Travelled from Wuhan</td>\n",
       "      <td>NaN</td>\n",
       "      <td>India</td>\n",
       "      <td>Imported</td>\n",
       "      <td>14/02/2020</td>\n",
       "      <td>https://twitter.com/vijayanpinarayi/status/122...</td>\n",
       "      <td>https://weather.com/en-IN/india/news/news/2020...</td>\n",
       "      <td>NaN</td>\n",
       "      <td>Student from Wuhan</td>\n",
       "    </tr>\n",
       "  </tbody>\n",
       "</table>\n",
       "</div>"
      ],
      "text/plain": [
       "   Patient Number State Patient Number Date Announced  Estimated Onset Date  \\\n",
       "0               1             KL-TS-P1     30/01/2020                   NaN   \n",
       "\n",
       "  Age Bracket Gender Detected City Detected District Detected State  \\\n",
       "0          20      F      Thrissur          Thrissur         Kerala   \n",
       "\n",
       "  State code Current Status                 Notes  \\\n",
       "0         KL      Recovered  Travelled from Wuhan   \n",
       "\n",
       "  Contracted from which Patient (Suspected) Nationality Type of transmission  \\\n",
       "0                                       NaN       India             Imported   \n",
       "\n",
       "  Status Change Date                                           Source_1  \\\n",
       "0         14/02/2020  https://twitter.com/vijayanpinarayi/status/122...   \n",
       "\n",
       "                                            Source_2 Source_3  \\\n",
       "0  https://weather.com/en-IN/india/news/news/2020...      NaN   \n",
       "\n",
       "         Backup Notes  \n",
       "0  Student from Wuhan  "
      ]
     },
     "execution_count": 2,
     "metadata": {},
     "output_type": "execute_result"
    }
   ],
   "source": [
    "missing_arr=['N/a','na',\"NaN\",\"nan\"]\n",
    "df=pd.read_csv(\"covid_19_india_dataset.csv\",na_values=missing_arr)\n",
    "df.head(1)"
   ]
  },
  {
   "cell_type": "code",
   "execution_count": 3,
   "metadata": {},
   "outputs": [],
   "source": [
    "symptoms={'symptom':['Fever',\n",
    "        'Dry cough',\n",
    "        'Fatigue',\n",
    "        'Sputum production',\n",
    "        'Shortness of breath',\n",
    "        'Muscle pain',\n",
    "        'Sore throat',\n",
    "        'Headache',\n",
    "        'Chills',\n",
    "        'Nausea or vomiting',\n",
    "        'Nasal congestion',\n",
    "        'Diarrhoea',\n",
    "        'Haemoptysis',\n",
    "        'Conjunctival congestion'],'percentage':[87.9,67.7,38.1,33.4,18.6,14.8,13.9,13.6,11.4,5.0,4.8,3.7,0.9,0.8]}\n",
    "\n",
    "symptoms_df=pd.DataFrame(data=symptoms)"
   ]
  },
  {
   "cell_type": "markdown",
   "metadata": {},
   "source": [
    "# Data Wrangling : "
   ]
  },
  {
   "cell_type": "code",
   "execution_count": 4,
   "metadata": {},
   "outputs": [
    {
     "data": {
      "text/html": [
       "<div>\n",
       "<style scoped>\n",
       "    .dataframe tbody tr th:only-of-type {\n",
       "        vertical-align: middle;\n",
       "    }\n",
       "\n",
       "    .dataframe tbody tr th {\n",
       "        vertical-align: top;\n",
       "    }\n",
       "\n",
       "    .dataframe thead th {\n",
       "        text-align: right;\n",
       "    }\n",
       "</style>\n",
       "<table border=\"1\" class=\"dataframe\">\n",
       "  <thead>\n",
       "    <tr style=\"text-align: right;\">\n",
       "      <th></th>\n",
       "      <th>Patient Number</th>\n",
       "      <th>State Patient Number</th>\n",
       "      <th>Date Announced</th>\n",
       "      <th>Age Bracket</th>\n",
       "      <th>Gender</th>\n",
       "      <th>Detected City</th>\n",
       "      <th>Detected District</th>\n",
       "      <th>Detected State</th>\n",
       "      <th>State code</th>\n",
       "      <th>Current Status</th>\n",
       "      <th>Notes</th>\n",
       "      <th>Contracted from which Patient (Suspected)</th>\n",
       "      <th>Nationality</th>\n",
       "      <th>Type of transmission</th>\n",
       "      <th>Status Change Date</th>\n",
       "    </tr>\n",
       "  </thead>\n",
       "  <tbody>\n",
       "    <tr>\n",
       "      <th>0</th>\n",
       "      <td>1</td>\n",
       "      <td>KL-TS-P1</td>\n",
       "      <td>30/01/2020</td>\n",
       "      <td>20</td>\n",
       "      <td>F</td>\n",
       "      <td>Thrissur</td>\n",
       "      <td>Thrissur</td>\n",
       "      <td>Kerala</td>\n",
       "      <td>KL</td>\n",
       "      <td>Recovered</td>\n",
       "      <td>Travelled from Wuhan</td>\n",
       "      <td>NaN</td>\n",
       "      <td>India</td>\n",
       "      <td>Imported</td>\n",
       "      <td>14/02/2020</td>\n",
       "    </tr>\n",
       "  </tbody>\n",
       "</table>\n",
       "</div>"
      ],
      "text/plain": [
       "   Patient Number State Patient Number Date Announced Age Bracket Gender  \\\n",
       "0               1             KL-TS-P1     30/01/2020          20      F   \n",
       "\n",
       "  Detected City Detected District Detected State State code Current Status  \\\n",
       "0      Thrissur          Thrissur         Kerala         KL      Recovered   \n",
       "\n",
       "                  Notes Contracted from which Patient (Suspected) Nationality  \\\n",
       "0  Travelled from Wuhan                                       NaN       India   \n",
       "\n",
       "  Type of transmission Status Change Date  \n",
       "0             Imported         14/02/2020  "
      ]
     },
     "execution_count": 4,
     "metadata": {},
     "output_type": "execute_result"
    }
   ],
   "source": [
    "#Remove unnecessary columns :\n",
    "\n",
    "df=df.drop(['Source_1'],axis=1)\n",
    "df=df.drop(['Source_2'],axis=1)\n",
    "df=df.drop(['Source_3'],axis=1)\n",
    "df=df.drop(['Estimated Onset Date'],axis=1)\n",
    "df=df.drop(['Backup Notes'],axis=1)\n",
    "df.head(1)"
   ]
  },
  {
   "cell_type": "code",
   "execution_count": 5,
   "metadata": {},
   "outputs": [
    {
     "data": {
      "text/plain": [
       "Patient Number                                int64\n",
       "State Patient Number                         object\n",
       "Date Announced                               object\n",
       "Age Bracket                                  object\n",
       "Gender                                       object\n",
       "Detected City                                object\n",
       "Detected District                            object\n",
       "Detected State                               object\n",
       "State code                                   object\n",
       "Current Status                               object\n",
       "Notes                                        object\n",
       "Contracted from which Patient (Suspected)    object\n",
       "Nationality                                  object\n",
       "Type of transmission                         object\n",
       "Status Change Date                           object\n",
       "dtype: object"
      ]
     },
     "execution_count": 5,
     "metadata": {},
     "output_type": "execute_result"
    }
   ],
   "source": [
    "#Data types :\n",
    "df.dtypes"
   ]
  },
  {
   "cell_type": "code",
   "execution_count": 6,
   "metadata": {
    "scrolled": true
   },
   "outputs": [
    {
     "data": {
      "text/html": [
       "<div>\n",
       "<style scoped>\n",
       "    .dataframe tbody tr th:only-of-type {\n",
       "        vertical-align: middle;\n",
       "    }\n",
       "\n",
       "    .dataframe tbody tr th {\n",
       "        vertical-align: top;\n",
       "    }\n",
       "\n",
       "    .dataframe thead th {\n",
       "        text-align: right;\n",
       "    }\n",
       "</style>\n",
       "<table border=\"1\" class=\"dataframe\">\n",
       "  <thead>\n",
       "    <tr style=\"text-align: right;\">\n",
       "      <th></th>\n",
       "      <th>Patient Number</th>\n",
       "      <th>State Patient Number</th>\n",
       "      <th>Date Announced</th>\n",
       "      <th>Age Bracket</th>\n",
       "      <th>Gender</th>\n",
       "      <th>Detected City</th>\n",
       "      <th>Detected District</th>\n",
       "      <th>Detected State</th>\n",
       "      <th>State code</th>\n",
       "      <th>Current Status</th>\n",
       "      <th>Notes</th>\n",
       "      <th>Contracted from which Patient (Suspected)</th>\n",
       "      <th>Nationality</th>\n",
       "      <th>Type of transmission</th>\n",
       "      <th>Status Change Date</th>\n",
       "    </tr>\n",
       "  </thead>\n",
       "  <tbody>\n",
       "    <tr>\n",
       "      <th>0</th>\n",
       "      <td>1</td>\n",
       "      <td>KL-TS-P1</td>\n",
       "      <td>30-01-2020</td>\n",
       "      <td>20</td>\n",
       "      <td>F</td>\n",
       "      <td>Thrissur</td>\n",
       "      <td>Thrissur</td>\n",
       "      <td>Kerala</td>\n",
       "      <td>KL</td>\n",
       "      <td>Recovered</td>\n",
       "      <td>Travelled from Wuhan</td>\n",
       "      <td>NaN</td>\n",
       "      <td>India</td>\n",
       "      <td>Imported</td>\n",
       "      <td>14-02-2020</td>\n",
       "    </tr>\n",
       "    <tr>\n",
       "      <th>1</th>\n",
       "      <td>2</td>\n",
       "      <td>KL-AL-P1</td>\n",
       "      <td>02-02-2020</td>\n",
       "      <td>NaN</td>\n",
       "      <td>NaN</td>\n",
       "      <td>Alappuzha</td>\n",
       "      <td>Alappuzha</td>\n",
       "      <td>Kerala</td>\n",
       "      <td>KL</td>\n",
       "      <td>Recovered</td>\n",
       "      <td>Travelled from Wuhan</td>\n",
       "      <td>NaN</td>\n",
       "      <td>India</td>\n",
       "      <td>Imported</td>\n",
       "      <td>14-02-2020</td>\n",
       "    </tr>\n",
       "  </tbody>\n",
       "</table>\n",
       "</div>"
      ],
      "text/plain": [
       "   Patient Number State Patient Number Date Announced Age Bracket Gender  \\\n",
       "0               1             KL-TS-P1     30-01-2020          20      F   \n",
       "1               2             KL-AL-P1     02-02-2020         NaN    NaN   \n",
       "\n",
       "  Detected City Detected District Detected State State code Current Status  \\\n",
       "0      Thrissur          Thrissur         Kerala         KL      Recovered   \n",
       "1     Alappuzha         Alappuzha         Kerala         KL      Recovered   \n",
       "\n",
       "                  Notes Contracted from which Patient (Suspected) Nationality  \\\n",
       "0  Travelled from Wuhan                                       NaN       India   \n",
       "1  Travelled from Wuhan                                       NaN       India   \n",
       "\n",
       "  Type of transmission Status Change Date  \n",
       "0             Imported         14-02-2020  \n",
       "1             Imported         14-02-2020  "
      ]
     },
     "execution_count": 6,
     "metadata": {},
     "output_type": "execute_result"
    }
   ],
   "source": [
    "#Converting Date Announced and status change date from object data type to Date type.\n",
    "df['Date Announced']=pd.to_datetime(df[\"Date Announced\"]).dt.strftime('%d-%m-%Y')\n",
    "df[\"Status Change Date\"]=pd.to_datetime(df[\"Status Change Date\"]).dt.strftime(\"%d-%m-%Y\")\n",
    "df.head(2)"
   ]
  },
  {
   "cell_type": "code",
   "execution_count": 7,
   "metadata": {},
   "outputs": [
    {
     "data": {
      "text/html": [
       "<div>\n",
       "<style scoped>\n",
       "    .dataframe tbody tr th:only-of-type {\n",
       "        vertical-align: middle;\n",
       "    }\n",
       "\n",
       "    .dataframe tbody tr th {\n",
       "        vertical-align: top;\n",
       "    }\n",
       "\n",
       "    .dataframe thead th {\n",
       "        text-align: right;\n",
       "    }\n",
       "</style>\n",
       "<table border=\"1\" class=\"dataframe\">\n",
       "  <thead>\n",
       "    <tr style=\"text-align: right;\">\n",
       "      <th></th>\n",
       "      <th>State Patient Number</th>\n",
       "      <th>Date Announced</th>\n",
       "      <th>Age Bracket</th>\n",
       "      <th>Gender</th>\n",
       "      <th>Detected City</th>\n",
       "      <th>Detected District</th>\n",
       "      <th>Detected State</th>\n",
       "      <th>State code</th>\n",
       "      <th>Current Status</th>\n",
       "      <th>Notes</th>\n",
       "      <th>Contracted from which Patient (Suspected)</th>\n",
       "      <th>Nationality</th>\n",
       "      <th>Type of transmission</th>\n",
       "      <th>Status Change Date</th>\n",
       "    </tr>\n",
       "    <tr>\n",
       "      <th>Patient Number</th>\n",
       "      <th></th>\n",
       "      <th></th>\n",
       "      <th></th>\n",
       "      <th></th>\n",
       "      <th></th>\n",
       "      <th></th>\n",
       "      <th></th>\n",
       "      <th></th>\n",
       "      <th></th>\n",
       "      <th></th>\n",
       "      <th></th>\n",
       "      <th></th>\n",
       "      <th></th>\n",
       "      <th></th>\n",
       "    </tr>\n",
       "  </thead>\n",
       "  <tbody>\n",
       "    <tr>\n",
       "      <th>1</th>\n",
       "      <td>KL-TS-P1</td>\n",
       "      <td>30-01-2020</td>\n",
       "      <td>20</td>\n",
       "      <td>F</td>\n",
       "      <td>Thrissur</td>\n",
       "      <td>Thrissur</td>\n",
       "      <td>Kerala</td>\n",
       "      <td>KL</td>\n",
       "      <td>Recovered</td>\n",
       "      <td>Travelled from Wuhan</td>\n",
       "      <td>NaN</td>\n",
       "      <td>India</td>\n",
       "      <td>Imported</td>\n",
       "      <td>14-02-2020</td>\n",
       "    </tr>\n",
       "  </tbody>\n",
       "</table>\n",
       "</div>"
      ],
      "text/plain": [
       "               State Patient Number Date Announced Age Bracket Gender  \\\n",
       "Patient Number                                                          \n",
       "1                          KL-TS-P1     30-01-2020          20      F   \n",
       "\n",
       "               Detected City Detected District Detected State State code  \\\n",
       "Patient Number                                                             \n",
       "1                   Thrissur          Thrissur         Kerala         KL   \n",
       "\n",
       "               Current Status                 Notes  \\\n",
       "Patient Number                                        \n",
       "1                   Recovered  Travelled from Wuhan   \n",
       "\n",
       "               Contracted from which Patient (Suspected) Nationality  \\\n",
       "Patient Number                                                         \n",
       "1                                                    NaN       India   \n",
       "\n",
       "               Type of transmission Status Change Date  \n",
       "Patient Number                                          \n",
       "1                          Imported         14-02-2020  "
      ]
     },
     "execution_count": 7,
     "metadata": {},
     "output_type": "execute_result"
    }
   ],
   "source": [
    "#set Patient Number as index.\n",
    "df.set_index(\"Patient Number\",inplace=True)\n",
    "df.head(1)"
   ]
  },
  {
   "cell_type": "code",
   "execution_count": 8,
   "metadata": {},
   "outputs": [
    {
     "data": {
      "text/plain": [
       "State Patient Number                         14849\n",
       "Date Announced                                   0\n",
       "Age Bracket                                  15636\n",
       "Gender                                       13560\n",
       "Detected City                                15143\n",
       "Detected District                             2932\n",
       "Detected State                                   1\n",
       "State code                                       1\n",
       "Current Status                                   0\n",
       "Notes                                         1318\n",
       "Contracted from which Patient (Suspected)    15772\n",
       "Nationality                                  15754\n",
       "Type of transmission                         14355\n",
       "Status Change Date                             111\n",
       "dtype: int64"
      ]
     },
     "execution_count": 8,
     "metadata": {},
     "output_type": "execute_result"
    }
   ],
   "source": [
    "#Dealing NaN values.\n",
    "df.isnull().sum()"
   ]
  },
  {
   "cell_type": "code",
   "execution_count": 9,
   "metadata": {},
   "outputs": [],
   "source": [
    "#filling in with values:\n",
    "df=df.fillna(\"Unknown\")"
   ]
  },
  {
   "cell_type": "markdown",
   "metadata": {},
   "source": [
    "# Data Analysis :"
   ]
  },
  {
   "cell_type": "markdown",
   "metadata": {},
   "source": [
    "Symptoms Analysis:"
   ]
  },
  {
   "cell_type": "code",
   "execution_count": 10,
   "metadata": {},
   "outputs": [
    {
     "data": {
      "image/png": "[encoded data removed]",
      "text/plain": [
       "<Figure size 720x576 with 1 Axes>"
      ]
     },
     "metadata": {
      "needs_background": "light"
     },
     "output_type": "display_data"
    }
   ],
   "source": [
    "#plotting a bar plot to analyse symptoms effect :\n",
    "\n",
    "# Initialize a Figure \n",
    "fig= plt.figure(figsize=(10,8))\n",
    "\n",
    "# Set up Axes\n",
    "ax = fig.add_subplot(111)     #mean 1,1,1\n",
    "\n",
    "# rotate and align the tick labels so they look better\n",
    "fig.autofmt_xdate()\n",
    "\n",
    "# Make a list by cycling through the colors you care about to match the length of your data.\n",
    "my_colors = list(islice(cycle(['navy', 'mediumblue', 'royalblue', 'cornflowerblue', 'mediumslateblue','mediumpurple','plum','orchid','mediumvioletred',\"crimson\",\"pink\",\"lightcoral\",'darkgreen',\"limegreen\"]), None, len(df)))\n",
    "\n",
    "#plot x=symptoms,y=percentage\n",
    "plt.bar(symptoms_df[\"symptom\"],symptoms_df[\"percentage\"],color=my_colors)\n",
    "\n",
    "ax.set(title=\"Symptoms of Coronovirus\",ylabel=\"Percentage\")\n",
    "plt.show()"
   ]
  },
  {
   "cell_type": "code",
   "execution_count": 11,
   "metadata": {},
   "outputs": [],
   "source": [
    "#Todo : display percentage when you click on bar graph."
   ]
  },
  {
   "cell_type": "markdown",
   "metadata": {},
   "source": [
    "Current situation analysis (total,recovered,active,death)"
   ]
  },
  {
   "cell_type": "code",
   "execution_count": 12,
   "metadata": {},
   "outputs": [
    {
     "name": "stdout",
     "output_type": "stream",
     "text": [
      "['Recovered' 'Hospitalized' 'Deceased' 'Migrated']\n"
     ]
    }
   ],
   "source": [
    "print(df['Current Status'].unique())"
   ]
  },
  {
   "cell_type": "code",
   "execution_count": 13,
   "metadata": {},
   "outputs": [],
   "source": [
    "Total=len(df)\n",
    "Recovered=len(df.loc[df[\"Current Status\"]==\"Recovered\"])\n",
    "Death=len(df.loc[df[\"Current Status\"]==\"Deceased\" ])\n",
    "Active=Total-(Recovered+Death)"
   ]
  },
  {
   "cell_type": "code",
   "execution_count": 14,
   "metadata": {},
   "outputs": [
    {
     "data": {
      "image/png": "[encoded data removed]",
      "text/plain": [
       "<Figure size 576x576 with 1 Axes>"
      ]
     },
     "metadata": {},
     "output_type": "display_data"
    }
   ],
   "source": [
    "#plot a donut describing active/recovered/death :\n",
    "\n",
    "# Initialize a Figure \n",
    "fig= plt.figure(figsize=(8,8))\n",
    "# Set up Axes\n",
    "ax = fig.add_subplot(111)     #mean 1,1,1\n",
    "\n",
    "#create data \n",
    "data=[Active,Recovered,Death]\n",
    "sizes=[80,10,2]\n",
    "my_color=['darkblue','green','red']\n",
    "\n",
    "my_circle=plt.Circle( (0,0), 0.3, color='white')\n",
    "plt.pie(sizes, labels=data, colors=my_color, wedgeprops={'linewidth':5,'edgecolor':'white'})\n",
    "\n",
    "p=plt.gcf()\n",
    "p.gca().add_artist(my_circle)\n",
    "\n",
    "legendlabel=[\"Active\",'Recovered','Death']\n",
    "plt.legend(legendlabel,loc=\"best\",bbox_to_anchor=(0.9, 1.0),frameon=False)\n",
    "\n",
    "plt.title(\"Current situation in India\")\n",
    "plt.show()\n"
   ]
  },
  {
   "cell_type": "code",
   "execution_count": 15,
   "metadata": {},
   "outputs": [],
   "source": [
    "#TODO : when you click on wedge its shows the status+number"
   ]
  },
  {
   "cell_type": "markdown",
   "metadata": {},
   "source": [
    "Gender wise active cases :"
   ]
  },
  {
   "cell_type": "code",
   "execution_count": 18,
   "metadata": {},
   "outputs": [
    {
     "name": "stdout",
     "output_type": "stream",
     "text": [
      "17079 2409 1171 13499\n"
     ]
    }
   ],
   "source": [
    "#first we need to select all cases where current status= hospitalized and then we need to group them into Female,male,unknown\n",
    "temp=df[df[\"Current Status\"]==\"Hospitalized\"]\n",
    "female=len(temp.loc[temp[\"Gender\"]==\"F\"])\n",
    "male=len(temp.loc[temp[\"Gender\"]==\"M\"])\n",
    "unknown=len(temp)-(female+male)\n",
    "print(len(temp),male,female,unknown)"
   ]
  },
  {
   "cell_type": "code",
   "execution_count": 19,
   "metadata": {},
   "outputs": [
    {
     "data": {
      "image/png": "[encoded data removed]",
      "text/plain": [
       "<Figure size 576x576 with 1 Axes>"
      ]
     },
     "metadata": {},
     "output_type": "display_data"
    }
   ],
   "source": [
    "#plotting a donut fro gender wise active cases.\n",
    "\n",
    "fig= plt.figure(figsize=(8,8))\n",
    "ax = fig.add_subplot(111)     #mean 1,1,1\n",
    "\n",
    "data=[unknown,male,female]\n",
    "sizes=[80,10,5]\n",
    "my_colors=[\"grey\",\"darkblue\",\"pink\"]\n",
    "\n",
    "my_circle=plt.Circle((0,0),0.4,color=\"white\")\n",
    "plt.pie(sizes, colors=my_colors, labels=data, wedgeprops={\"edgecolor\":\"white\",\"linewidth\":5})\n",
    "\n",
    "p=plt.gcf()\n",
    "p.gca().add_artist(my_circle)\n",
    "\n",
    "plt.title(\"Gender wise active cases\")\n",
    "legendlabel=[\"Unknown\",\"Male\",\"Female\"]\n",
    "plt.legend(legendlabel,loc=\"best\",bbox_to_anchor=(0.9, 1.0),frameon=False)\n",
    "\n",
    "plt.show()"
   ]
  },
  {
   "cell_type": "code",
   "execution_count": 20,
   "metadata": {},
   "outputs": [],
   "source": [
    "#TODO :  Make it interactive "
   ]
  },
  {
   "cell_type": "markdown",
   "metadata": {},
   "source": [
    "Gender wise recovered cases :"
   ]
  },
  {
   "cell_type": "code",
   "execution_count": 21,
   "metadata": {},
   "outputs": [
    {
     "name": "stdout",
     "output_type": "stream",
     "text": [
      "181 84 39 58\n"
     ]
    }
   ],
   "source": [
    "temp=df[df[\"Current Status\"]==\"Recovered\"]\n",
    "total=len(temp)\n",
    "female=len(temp.loc[temp[\"Gender\"]==\"F\"])\n",
    "male=len(temp.loc[temp[\"Gender\"]==\"M\"])\n",
    "unknown=total-(male+female)\n",
    "print(total,male,female,unknown)"
   ]
  },
  {
   "cell_type": "code",
   "execution_count": 22,
   "metadata": {},
   "outputs": [
    {
     "data": {
      "image/png": "[encoded data removed]",
      "text/plain": [
       "<Figure size 576x576 with 1 Axes>"
      ]
     },
     "metadata": {},
     "output_type": "display_data"
    }
   ],
   "source": [
    "#plotting a donut for gender wise recovered cases.\n",
    "\n",
    "fig= plt.figure(figsize=(8,8))\n",
    "ax = fig.add_subplot(111)     #mean 1,1,1\n",
    "\n",
    "data=[unknown,male,female]\n",
    "sizes=[58,84,39]\n",
    "my_colors=[\"grey\",\"darkblue\",\"pink\"]\n",
    "\n",
    "my_circle=plt.Circle((0,0),0.4,color=\"white\")\n",
    "plt.pie(sizes, colors=my_colors, labels=data, wedgeprops={\"edgecolor\":\"white\",\"linewidth\":5})\n",
    "\n",
    "p=plt.gcf()\n",
    "p.gca().add_artist(my_circle)\n",
    "\n",
    "plt.title(\"Gender wise recovered cases\")\n",
    "legendlabel=[\"Unknown\",\"Male\",\"Female\"]\n",
    "plt.legend(legendlabel,loc=\"best\",bbox_to_anchor=(0.9, 1.0),frameon=False)\n",
    "\n",
    "plt.show()"
   ]
  },
  {
   "cell_type": "code",
   "execution_count": 23,
   "metadata": {},
   "outputs": [],
   "source": [
    "#TODOO :  make it interacctice "
   ]
  },
  {
   "cell_type": "markdown",
   "metadata": {},
   "source": [
    "Age wise patient count :"
   ]
  },
  {
   "cell_type": "code",
   "execution_count": 24,
   "metadata": {},
   "outputs": [],
   "source": [
    "#plot count vs age \n",
    "#as age is varying ,therfore we cant directly plot it . we ahve to bin it in various groups.\n"
   ]
  },
  {
   "cell_type": "code",
   "execution_count": 25,
   "metadata": {},
   "outputs": [
    {
     "data": {
      "text/plain": [
       "array(['20', '0', '45', '24', '69', '55', '70', '16', '27', '59', '65',\n",
       "       '75', '54', '53', '61', '25', '63', '46', '3', '48', '40', '47',\n",
       "       '13', '96', '89', '85', '68', '26', '33', '76', '37', '43', '21',\n",
       "       '42', '44', '51', '31', '32', '29', '67', '49', '52', '22', '18',\n",
       "       '34', '28', '56', '35', '50', '30', '38', '23', '19', '58', '41',\n",
       "       '2', '60', '74', '39', '17', '36', '57', '64', '81', '62', '73',\n",
       "       '9', '7', '66', '12', '1', '14', '11', '6', '92', '72', '15', '77',\n",
       "       '10', '80', '71', '78', '79', '90', '4', '8', '5'], dtype=object)"
      ]
     },
     "execution_count": 25,
     "metadata": {},
     "output_type": "execute_result"
    }
   ],
   "source": [
    "temp=df.copy()\n",
    "temp[\"Age Bracket\"].replace(\"Unknown\",\"0\",inplace=True)\n",
    "temp[\"Age Bracket\"].replace(\"28-35\",\"32\",inplace=True)\n",
    "temp[\"Age Bracket\"].replace(\"1.5\",\"1\",inplace=True)\n",
    "temp[\"Age Bracket\"].unique()"
   ]
  },
  {
   "cell_type": "code",
   "execution_count": 26,
   "metadata": {},
   "outputs": [
    {
     "data": {
      "text/plain": [
       "State Patient Number                         object\n",
       "Date Announced                               object\n",
       "Age Bracket                                   int32\n",
       "Gender                                       object\n",
       "Detected City                                object\n",
       "Detected District                            object\n",
       "Detected State                               object\n",
       "State code                                   object\n",
       "Current Status                               object\n",
       "Notes                                        object\n",
       "Contracted from which Patient (Suspected)    object\n",
       "Nationality                                  object\n",
       "Type of transmission                         object\n",
       "Status Change Date                           object\n",
       "dtype: object"
      ]
     },
     "execution_count": 26,
     "metadata": {},
     "output_type": "execute_result"
    }
   ],
   "source": [
    "#converting the age bracket from object to numerical values to plot it nicely.\n",
    "temp[\"Age Bracket\"]=temp[\"Age Bracket\"].astype(int)\n",
    "temp.dtypes"
   ]
  },
  {
   "cell_type": "code",
   "execution_count": 34,
   "metadata": {},
   "outputs": [],
   "source": [
    "bins=[ -1,25,45,75,105]\n",
    "group=[ 'Age(0-25)','Age(26-45)','Age(46-75)','Age(76-105)']\n",
    "temp[\"age_bin\"]=pd.cut(temp['Age Bracket'],bins,labels=group)"
   ]
  },
  {
   "cell_type": "code",
   "execution_count": 45,
   "metadata": {},
   "outputs": [
    {
     "name": "stdout",
     "output_type": "stream",
     "text": [
      "Age(0-25)      16010\n",
      "Age(26-45)       707\n",
      "Age(46-75)       562\n",
      "Age(76-105)       27\n",
      "Name: age_bin, dtype: int64\n"
     ]
    },
    {
     "data": {
      "text/plain": [
       "Text(0.5, 1.0, 'Age wise analysis')"
      ]
     },
     "execution_count": 45,
     "metadata": {},
     "output_type": "execute_result"
    },
    {
     "data": {
      "image/png": "[encoded data removed]",
      "text/plain": [
       "<Figure size 360x1224 with 1 Axes>"
      ]
     },
     "metadata": {
      "needs_background": "light"
     },
     "output_type": "display_data"
    }
   ],
   "source": [
    "print(temp['age_bin'].value_counts())\n",
    "\n",
    "fig=plt.figure(figsize=(5,17))\n",
    "ax=fig.add_subplot(111)\n",
    "fig.autofmt_xdate()\n",
    "\n",
    "temp['age_bin'].value_counts().plot.bar()\n",
    "plt.title(\"Age wise analysis\")"
   ]
  },
  {
   "cell_type": "code",
   "execution_count": 46,
   "metadata": {},
   "outputs": [],
   "source": [
    "#TODO : make it interactive."
   ]
  },
  {
   "cell_type": "markdown",
   "metadata": {},
   "source": [
    "Coronavirus cases -Total,Recovered,Death."
   ]
  },
  {
   "cell_type": "code",
   "execution_count": 72,
   "metadata": {},
   "outputs": [
    {
     "data": {
      "text/html": [
       "<div>\n",
       "<style scoped>\n",
       "    .dataframe tbody tr th:only-of-type {\n",
       "        vertical-align: middle;\n",
       "    }\n",
       "\n",
       "    .dataframe tbody tr th {\n",
       "        vertical-align: top;\n",
       "    }\n",
       "\n",
       "    .dataframe thead th {\n",
       "        text-align: right;\n",
       "    }\n",
       "</style>\n",
       "<table border=\"1\" class=\"dataframe\">\n",
       "  <thead>\n",
       "    <tr style=\"text-align: right;\">\n",
       "      <th></th>\n",
       "      <th>State Patient Number</th>\n",
       "      <th>Date Announced</th>\n",
       "      <th>Age Bracket</th>\n",
       "      <th>Gender</th>\n",
       "      <th>Detected City</th>\n",
       "      <th>Detected District</th>\n",
       "      <th>Detected State</th>\n",
       "      <th>State code</th>\n",
       "      <th>Current Status</th>\n",
       "      <th>Notes</th>\n",
       "      <th>Contracted from which Patient (Suspected)</th>\n",
       "      <th>Nationality</th>\n",
       "      <th>Type of transmission</th>\n",
       "      <th>Status Change Date</th>\n",
       "      <th>recovered</th>\n",
       "      <th>death</th>\n",
       "    </tr>\n",
       "    <tr>\n",
       "      <th>Patient Number</th>\n",
       "      <th></th>\n",
       "      <th></th>\n",
       "      <th></th>\n",
       "      <th></th>\n",
       "      <th></th>\n",
       "      <th></th>\n",
       "      <th></th>\n",
       "      <th></th>\n",
       "      <th></th>\n",
       "      <th></th>\n",
       "      <th></th>\n",
       "      <th></th>\n",
       "      <th></th>\n",
       "      <th></th>\n",
       "      <th></th>\n",
       "      <th></th>\n",
       "    </tr>\n",
       "  </thead>\n",
       "  <tbody>\n",
       "    <tr>\n",
       "      <th>1</th>\n",
       "      <td>KL-TS-P1</td>\n",
       "      <td>30-01-2020</td>\n",
       "      <td>20</td>\n",
       "      <td>F</td>\n",
       "      <td>Thrissur</td>\n",
       "      <td>Thrissur</td>\n",
       "      <td>Kerala</td>\n",
       "      <td>KL</td>\n",
       "      <td>Recovered</td>\n",
       "      <td>Travelled from Wuhan</td>\n",
       "      <td>Unknown</td>\n",
       "      <td>India</td>\n",
       "      <td>Imported</td>\n",
       "      <td>14-02-2020</td>\n",
       "      <td>1</td>\n",
       "      <td>0</td>\n",
       "    </tr>\n",
       "    <tr>\n",
       "      <th>2</th>\n",
       "      <td>KL-AL-P1</td>\n",
       "      <td>02-02-2020</td>\n",
       "      <td>Unknown</td>\n",
       "      <td>Unknown</td>\n",
       "      <td>Alappuzha</td>\n",
       "      <td>Alappuzha</td>\n",
       "      <td>Kerala</td>\n",
       "      <td>KL</td>\n",
       "      <td>Recovered</td>\n",
       "      <td>Travelled from Wuhan</td>\n",
       "      <td>Unknown</td>\n",
       "      <td>India</td>\n",
       "      <td>Imported</td>\n",
       "      <td>14-02-2020</td>\n",
       "      <td>1</td>\n",
       "      <td>0</td>\n",
       "    </tr>\n",
       "  </tbody>\n",
       "</table>\n",
       "</div>"
      ],
      "text/plain": [
       "               State Patient Number Date Announced Age Bracket   Gender  \\\n",
       "Patient Number                                                            \n",
       "1                          KL-TS-P1     30-01-2020          20        F   \n",
       "2                          KL-AL-P1     02-02-2020     Unknown  Unknown   \n",
       "\n",
       "               Detected City Detected District Detected State State code  \\\n",
       "Patient Number                                                             \n",
       "1                   Thrissur          Thrissur         Kerala         KL   \n",
       "2                  Alappuzha         Alappuzha         Kerala         KL   \n",
       "\n",
       "               Current Status                 Notes  \\\n",
       "Patient Number                                        \n",
       "1                   Recovered  Travelled from Wuhan   \n",
       "2                   Recovered  Travelled from Wuhan   \n",
       "\n",
       "               Contracted from which Patient (Suspected) Nationality  \\\n",
       "Patient Number                                                         \n",
       "1                                                Unknown       India   \n",
       "2                                                Unknown       India   \n",
       "\n",
       "               Type of transmission Status Change Date  recovered  death  \n",
       "Patient Number                                                            \n",
       "1                          Imported         14-02-2020          1      0  \n",
       "2                          Imported         14-02-2020          1      0  "
      ]
     },
     "execution_count": 72,
     "metadata": {},
     "output_type": "execute_result"
    }
   ],
   "source": [
    "temp=df.copy()\n",
    "def check_recovered_status(columnvalues):\n",
    "    if columnvalues==\"Recovered\":\n",
    "        return 1\n",
    "    else:\n",
    "        return 0\n",
    "def check_death_status(columnvalues):\n",
    "    if columnvalues==\"Deceased\":\n",
    "        return 1\n",
    "    else:\n",
    "        return 0\n",
    "temp[\"recovered\"]=temp[\"Current Status\"].apply(check_recovered_status)\n",
    "temp[\"death\"]=temp[\"Current Status\"].apply(check_death_status)\n",
    "temp.head(2)"
   ]
  },
  {
   "cell_type": "code",
   "execution_count": 73,
   "metadata": {},
   "outputs": [
    {
     "data": {
      "text/html": [
       "<div>\n",
       "<style scoped>\n",
       "    .dataframe tbody tr th:only-of-type {\n",
       "        vertical-align: middle;\n",
       "    }\n",
       "\n",
       "    .dataframe tbody tr th {\n",
       "        vertical-align: top;\n",
       "    }\n",
       "\n",
       "    .dataframe thead th {\n",
       "        text-align: right;\n",
       "    }\n",
       "</style>\n",
       "<table border=\"1\" class=\"dataframe\">\n",
       "  <thead>\n",
       "    <tr style=\"text-align: right;\">\n",
       "      <th></th>\n",
       "      <th>State Patient Number</th>\n",
       "      <th>Date Announced</th>\n",
       "      <th>Age Bracket</th>\n",
       "      <th>Gender</th>\n",
       "      <th>Detected City</th>\n",
       "      <th>Detected District</th>\n",
       "      <th>Detected State</th>\n",
       "      <th>State code</th>\n",
       "      <th>Current Status</th>\n",
       "      <th>Notes</th>\n",
       "      <th>Contracted from which Patient (Suspected)</th>\n",
       "      <th>Nationality</th>\n",
       "      <th>Type of transmission</th>\n",
       "      <th>Status Change Date</th>\n",
       "      <th>recovered</th>\n",
       "      <th>death</th>\n",
       "    </tr>\n",
       "    <tr>\n",
       "      <th>Patient Number</th>\n",
       "      <th></th>\n",
       "      <th></th>\n",
       "      <th></th>\n",
       "      <th></th>\n",
       "      <th></th>\n",
       "      <th></th>\n",
       "      <th></th>\n",
       "      <th></th>\n",
       "      <th></th>\n",
       "      <th></th>\n",
       "      <th></th>\n",
       "      <th></th>\n",
       "      <th></th>\n",
       "      <th></th>\n",
       "      <th></th>\n",
       "      <th></th>\n",
       "    </tr>\n",
       "  </thead>\n",
       "  <tbody>\n",
       "    <tr>\n",
       "      <th>1</th>\n",
       "      <td>KL-TS-P1</td>\n",
       "      <td>30-01-2020</td>\n",
       "      <td>20</td>\n",
       "      <td>F</td>\n",
       "      <td>Thrissur</td>\n",
       "      <td>Thrissur</td>\n",
       "      <td>Kerala</td>\n",
       "      <td>KL</td>\n",
       "      <td>Recovered</td>\n",
       "      <td>Travelled from Wuhan</td>\n",
       "      <td>Unknown</td>\n",
       "      <td>India</td>\n",
       "      <td>Imported</td>\n",
       "      <td>14-02-2020</td>\n",
       "      <td>1</td>\n",
       "      <td>0</td>\n",
       "    </tr>\n",
       "    <tr>\n",
       "      <th>2</th>\n",
       "      <td>KL-AL-P1</td>\n",
       "      <td>02-02-2020</td>\n",
       "      <td>Unknown</td>\n",
       "      <td>Unknown</td>\n",
       "      <td>Alappuzha</td>\n",
       "      <td>Alappuzha</td>\n",
       "      <td>Kerala</td>\n",
       "      <td>KL</td>\n",
       "      <td>Recovered</td>\n",
       "      <td>Travelled from Wuhan</td>\n",
       "      <td>Unknown</td>\n",
       "      <td>India</td>\n",
       "      <td>Imported</td>\n",
       "      <td>14-02-2020</td>\n",
       "      <td>2</td>\n",
       "      <td>0</td>\n",
       "    </tr>\n",
       "    <tr>\n",
       "      <th>3</th>\n",
       "      <td>KL-KS-P1</td>\n",
       "      <td>02-03-2020</td>\n",
       "      <td>Unknown</td>\n",
       "      <td>Unknown</td>\n",
       "      <td>Kasaragod</td>\n",
       "      <td>Kasaragod</td>\n",
       "      <td>Kerala</td>\n",
       "      <td>KL</td>\n",
       "      <td>Recovered</td>\n",
       "      <td>Travelled from Wuhan</td>\n",
       "      <td>Unknown</td>\n",
       "      <td>India</td>\n",
       "      <td>Imported</td>\n",
       "      <td>14-02-2020</td>\n",
       "      <td>3</td>\n",
       "      <td>0</td>\n",
       "    </tr>\n",
       "    <tr>\n",
       "      <th>4</th>\n",
       "      <td>DL-P1</td>\n",
       "      <td>03-02-2020</td>\n",
       "      <td>45</td>\n",
       "      <td>M</td>\n",
       "      <td>East Delhi (Mayur Vihar)</td>\n",
       "      <td>East Delhi</td>\n",
       "      <td>Delhi</td>\n",
       "      <td>DL</td>\n",
       "      <td>Recovered</td>\n",
       "      <td>Travelled from Austria, Italy</td>\n",
       "      <td>Unknown</td>\n",
       "      <td>India</td>\n",
       "      <td>Imported</td>\n",
       "      <td>15-03-2020</td>\n",
       "      <td>4</td>\n",
       "      <td>0</td>\n",
       "    </tr>\n",
       "    <tr>\n",
       "      <th>5</th>\n",
       "      <td>TS-P1</td>\n",
       "      <td>03-02-2020</td>\n",
       "      <td>24</td>\n",
       "      <td>M</td>\n",
       "      <td>Hyderabad</td>\n",
       "      <td>Hyderabad</td>\n",
       "      <td>Telangana</td>\n",
       "      <td>TG</td>\n",
       "      <td>Recovered</td>\n",
       "      <td>Travelled from Dubai to Bangalore on 20th Feb,...</td>\n",
       "      <td>Unknown</td>\n",
       "      <td>India</td>\n",
       "      <td>Imported</td>\n",
       "      <td>03-02-2020</td>\n",
       "      <td>5</td>\n",
       "      <td>0</td>\n",
       "    </tr>\n",
       "  </tbody>\n",
       "</table>\n",
       "</div>"
      ],
      "text/plain": [
       "               State Patient Number Date Announced Age Bracket   Gender  \\\n",
       "Patient Number                                                            \n",
       "1                          KL-TS-P1     30-01-2020          20        F   \n",
       "2                          KL-AL-P1     02-02-2020     Unknown  Unknown   \n",
       "3                          KL-KS-P1     02-03-2020     Unknown  Unknown   \n",
       "4                             DL-P1     03-02-2020          45        M   \n",
       "5                             TS-P1     03-02-2020          24        M   \n",
       "\n",
       "                           Detected City Detected District Detected State  \\\n",
       "Patient Number                                                              \n",
       "1                               Thrissur          Thrissur         Kerala   \n",
       "2                              Alappuzha         Alappuzha         Kerala   \n",
       "3                              Kasaragod         Kasaragod         Kerala   \n",
       "4               East Delhi (Mayur Vihar)        East Delhi          Delhi   \n",
       "5                              Hyderabad         Hyderabad      Telangana   \n",
       "\n",
       "               State code Current Status  \\\n",
       "Patient Number                             \n",
       "1                      KL      Recovered   \n",
       "2                      KL      Recovered   \n",
       "3                      KL      Recovered   \n",
       "4                      DL      Recovered   \n",
       "5                      TG      Recovered   \n",
       "\n",
       "                                                            Notes  \\\n",
       "Patient Number                                                      \n",
       "1                                            Travelled from Wuhan   \n",
       "2                                            Travelled from Wuhan   \n",
       "3                                            Travelled from Wuhan   \n",
       "4                                   Travelled from Austria, Italy   \n",
       "5               Travelled from Dubai to Bangalore on 20th Feb,...   \n",
       "\n",
       "               Contracted from which Patient (Suspected) Nationality  \\\n",
       "Patient Number                                                         \n",
       "1                                                Unknown       India   \n",
       "2                                                Unknown       India   \n",
       "3                                                Unknown       India   \n",
       "4                                                Unknown       India   \n",
       "5                                                Unknown       India   \n",
       "\n",
       "               Type of transmission Status Change Date  recovered  death  \n",
       "Patient Number                                                            \n",
       "1                          Imported         14-02-2020          1      0  \n",
       "2                          Imported         14-02-2020          2      0  \n",
       "3                          Imported         14-02-2020          3      0  \n",
       "4                          Imported         15-03-2020          4      0  \n",
       "5                          Imported         03-02-2020          5      0  "
      ]
     },
     "execution_count": 73,
     "metadata": {},
     "output_type": "execute_result"
    }
   ],
   "source": [
    "temp[\"recovered\"]=temp[\"recovered\"].cumsum()\n",
    "temp[\"death\"]=temp[\"death\"].cumsum()\n",
    "temp.head()"
   ]
  },
  {
   "cell_type": "code",
   "execution_count": null,
   "metadata": {},
   "outputs": [],
   "source": [
    "#plotting total,recovered,death date wise:"
   ]
  },
  {
   "cell_type": "code",
   "execution_count": null,
   "metadata": {},
   "outputs": [],
   "source": [
    "fig=plt.figure(figsize=(22,15))\n",
    "ax=fig.add_subplot(111)\n",
    "\n",
    "fig.autofmt_xdate()\n",
    "\n",
    "#plt.yticks(np.arange(0,5000,200))\n",
    "#plt.bar(temp['Date Announced'],temp[\"Patient Number\"].head(5000),label=\"Total cases\")\n",
    "plt.bar(temp['Date Announced'],temp['recovered'],label=\"Recovered\")\n",
    "plt.bar(temp[\"Date Announced\"],temp['death'],label=\"Death\")\n",
    "\n",
    "plt.title(\"Covid'19 Cases,Recovery,Death in India\")"
   ]
  },
  {
   "cell_type": "code",
   "execution_count": null,
   "metadata": {},
   "outputs": [],
   "source": [
    "#plotting datewise daily distribution of covid'19 cases:\n",
    "\n",
    "#Plot a line graph showing the trend in cases daily.\n",
    "\n",
    "fig=plt.figure(figsize=(23,8))\n",
    "ax=fig.add_subplot(111)\n",
    "\n",
    "fig.autofmt_xdate()\n",
    "my_colors=[\"darkblue\"]\n",
    "plt.bar(temp[\"Date Announced\"],temp.index,label=\"Daily rise\",color=my_colors)\n",
    "ax.set(title=\"Daily rise in coronavirus cases\",xlabel=\"Date Detected\",ylabel=\"Patient count\")"
   ]
  },
  {
   "cell_type": "code",
   "execution_count": null,
   "metadata": {},
   "outputs": [],
   "source": [
    "#plotting recovered cases till date:\n",
    "\n",
    "#Plot a line graph showing the trend in recovery daily.\n",
    "\n",
    "fig=plt.figure(figsize=(23,8))\n",
    "ax=fig.add_subplot(111)\n",
    "\n",
    "fig.autofmt_xdate()\n",
    "my_colors=[\"darkgreen\"]\n",
    "plt.bar(temp[\"Date Announced\"],temp['recovered'],label=\"Recovered count\",color=my_colors)\n",
    "ax.set(title=\"Daily recovery  rise \",xlabel=\"Date\",ylabel=\"Recovered count\")"
   ]
  },
  {
   "cell_type": "code",
   "execution_count": null,
   "metadata": {},
   "outputs": [],
   "source": [
    "#plotting recovered cases till date:\n",
    "\n",
    "#Plot a line graph showing the trend in recovery daily.\n",
    "\n",
    "fig=plt.figure(figsize=(23,8))\n",
    "ax=fig.add_subplot(111)\n",
    "\n",
    "fig.autofmt_xdate()\n",
    "my_colors=[\"red\"]\n",
    "plt.bar(temp[\"Date Announced\"],temp['death'],label=\"Death count\",color=my_colors)\n",
    "ax.set(title=\"Daily death rise \",xlabel=\"Date\",ylabel=\"Death count\")"
   ]
  },
  {
   "cell_type": "code",
   "execution_count": null,
   "metadata": {},
   "outputs": [],
   "source": []
  }
 ],
 "metadata": {
  "kernelspec": {
   "display_name": "Python 3",
   "language": "python",
   "name": "python3"
  },
  "language_info": {
   "codemirror_mode": {
    "name": "ipython",
    "version": 3
   },
   "file_extension": ".py",
   "mimetype": "text/x-python",
   "name": "python",
   "nbconvert_exporter": "python",
   "pygments_lexer": "ipython3",
   "version": "3.7.6"
  }
 },
 "nbformat": 4,
 "nbformat_minor": 4
}
