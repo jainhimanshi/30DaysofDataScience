{
 "cells": [
  {
   "cell_type": "markdown",
   "metadata": {},
   "source": [
    "# Max Voting technique:"
   ]
  },
  {
   "cell_type": "markdown",
   "metadata": {},
   "source": [
    "#x_train consists of independent variables in training data, y_train is the target variable for training data. The validation set is x_test (independent variables) and y_test (target variable) ."
   ]
  },
  {
   "cell_type": "code",
   "execution_count": null,
   "metadata": {},
   "outputs": [],
   "source": [
    "from sklearn.ensemble import VotingClassifier \n",
    "model1 = LogisticRegression(random_state=1) \n",
    "model2 = DecisionTreeClassifier(random_state=1) \n",
    "model=VotingClassifier(estimators=[('lr',model1),('dt', model2)],voting='hard') \n",
    "model.fit(x_train,y_train) \n",
    "model.score(x_test,y_test)"
   ]
  },
  {
   "cell_type": "markdown",
   "metadata": {},
   "source": [
    "# Averaging "
   ]
  },
  {
   "cell_type": "code",
   "execution_count": null,
   "metadata": {},
   "outputs": [],
   "source": [
    "model1 = tree.DecisionTreeClassifier() \n",
    "model2 = KNeighborsClassifier() \n",
    "model3= LogisticRegression() \n",
    "model1.fit(x_train,y_train) \n",
    "model2.fit(x_train,y_train) \n",
    "model3.fit(x_train,y_train) \n",
    "\n",
    "pred1=model1.predict_proba(x_test) \n",
    "pred2=model2.predict_proba(x_test) \n",
    "pred3=model3.predict_proba(x_test) \n",
    "\n",
    "finalpred=(pred1+pred2+pred3)/3"
   ]
  },
  {
   "cell_type": "markdown",
   "metadata": {},
   "source": [
    "# Weighted Average"
   ]
  },
  {
   "cell_type": "code",
   "execution_count": null,
   "metadata": {},
   "outputs": [],
   "source": [
    "model1 = tree.DecisionTreeClassifier() \n",
    "model2 = KNeighborsClassifier() \n",
    "model3= LogisticRegression() \n",
    "\n",
    "model1.fit(x_train,y_train) \n",
    "model2.fit(x_train,y_train) \n",
    "model3.fit(x_train,y_train) \n",
    "\n",
    "pred1=model1.predict_proba(x_test) \n",
    "pred2=model2.predict_proba(x_test) \n",
    "pred3=model3.predict_proba(x_test) \n",
    "\n",
    "finalpred=(pred1*0.3+pred2*0.3+pred3*0.4)"
   ]
  },
  {
   "cell_type": "code",
   "execution_count": null,
   "metadata": {},
   "outputs": [],
   "source": []
  },
  {
   "cell_type": "code",
   "execution_count": null,
   "metadata": {},
   "outputs": [],
   "source": []
  }
 ],
 "metadata": {
  "kernelspec": {
   "display_name": "Python 3",
   "language": "python",
   "name": "python3"
  },
  "language_info": {
   "codemirror_mode": {
    "name": "ipython",
    "version": 3
   },
   "file_extension": ".py",
   "mimetype": "text/x-python",
   "name": "python",
   "nbconvert_exporter": "python",
   "pygments_lexer": "ipython3",
   "version": "3.7.6"
  }
 },
 "nbformat": 4,
 "nbformat_minor": 4
}
