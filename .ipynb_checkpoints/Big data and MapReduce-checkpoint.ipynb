{
 "cells": [
  {
   "cell_type": "code",
   "execution_count": 1,
   "metadata": {},
   "outputs": [],
   "source": [
    "#MapReduce :\n",
    "#It divides the large job into smaller chunks which operate on different machines and they dont communicate within until the job is done.\n",
    "#Its a parallel programming model which operates on 2 functions : Mapper and reducer.\n",
    "#we send the big record top many mappers which map simultaneously and produce key value pair.\n",
    "#now we shuffle them and send all of them to reducer."
   ]
  },
  {
   "cell_type": "code",
   "execution_count": 5,
   "metadata": {},
   "outputs": [],
   "source": [
    "#mapper python implementation:\n",
    "import sys\n",
    "def mapper():\n",
    "    for line in sys.stdin:     #cycle through each line of data.\n",
    "        data=line.strip().split(\",\")  #tokenize the line of data.\n",
    "        for i in data:              #clean the data.\n",
    "            cleaned_data=i.translate(string.maketrans(\" \",\"\"),string.punctuation).lower()\n",
    "            print(\"{0}\\t{1}\".format(cleaned_data,1))\n",
    "mapper()"
   ]
  },
  {
   "cell_type": "code",
   "execution_count": null,
   "metadata": {},
   "outputs": [],
   "source": [
    "def reducer():\n",
    "    word_count=0\n",
    "    old_key=None\n",
    "    for line in sys.stdin:\n",
    "        data=line.strip().split(\"\\t\")"
   ]
  }
 ],
 "metadata": {
  "kernelspec": {
   "display_name": "Python 3",
   "language": "python",
   "name": "python3"
  },
  "language_info": {
   "codemirror_mode": {
    "name": "ipython",
    "version": 3
   },
   "file_extension": ".py",
   "mimetype": "text/x-python",
   "name": "python",
   "nbconvert_exporter": "python",
   "pygments_lexer": "ipython3",
   "version": "3.7.6"
  }
 },
 "nbformat": 4,
 "nbformat_minor": 4
}
