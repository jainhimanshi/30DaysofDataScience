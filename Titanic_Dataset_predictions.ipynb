{
 "cells": [
  {
   "cell_type": "markdown",
   "metadata": {},
   "source": [
    "# Day3::"
   ]
  },
  {
   "cell_type": "code",
   "execution_count": 1,
   "metadata": {},
   "outputs": [],
   "source": [
    "#Kaggle Titanic dataset"
   ]
  },
  {
   "cell_type": "markdown",
   "metadata": {},
   "source": [
    "    you are given a list of Titantic passengers\n",
    "    and their associated information. \n",
    "    For this exercise, you need to write a simple heuristic that will use\n",
    "    the passengers' gender to predict if that person survived the Titanic disaster.\n",
    "    \n",
    "    You prediction should be 78% accurate or higher.\n",
    "        \n",
    "    Here's a simple heuristic to start off:\n",
    "       1) If the passenger is female, your heuristic should assume that the\n",
    "       passenger survived.\n",
    "       2) If the passenger is male, you heuristic should\n",
    "       assume that the passenger did not survive."
   ]
  },
  {
   "cell_type": "code",
   "execution_count": 51,
   "metadata": {},
   "outputs": [],
   "source": [
    "import pandas \n",
    "def custom_heuristic(titanic_data):\n",
    "    df = pandas.read_csv(file_path)\n",
    "    predictions = {}\n",
    "\n",
    "    for passenger_index, passenger in df.iterrows():\n",
    "        if passenger['Sex'] == 'male':\n",
    "            predictions[passenger['PassengerId']] = 0\n",
    "        elif passenger['Sex'] == 'female':\n",
    "            predictions[passenger['PassengerId']] = 1\n",
    "    return predictions"
   ]
  },
  {
   "cell_type": "markdown",
   "metadata": {},
   "source": [
    "    You prediction should be 79% accurate or higher.\n",
    "    \n",
    "    Here's the algorithm, predict the passenger survived if:\n",
    "    1) If the passenger is female or\n",
    "    2) if his/her socioeconomic status is high AND if the passenger is under 18\n",
    "    \n",
    "    Otherwise, your algorithm should predict that the passenger perished in the disaster.\n",
    "    \n",
    "    Or more specifically in terms of coding:\n",
    "    female or (high status and under 18)\n",
    "    \n",
    "    You can access the gender of a passenger via passenger['Sex'].\n",
    "    If the passenger is male, passenger['Sex'] will return a string \"male\".\n",
    "    If the passenger is female, passenger['Sex'] will return a string \"female\".\n",
    "    \n",
    "    You can access the socioeconomic status of a passenger via passenger['Pclass']:\n",
    "    High socioeconomic status -- passenger['Pclass'] is 1\n",
    "    Medium socioeconomic status -- passenger['Pclass'] is 2\n",
    "    Low socioeconomic status -- passenger['Pclass'] is 3\n",
    "\n",
    "    You can access the age of a passenger via passenger['Age']."
   ]
  },
  {
   "cell_type": "code",
   "execution_count": 54,
   "metadata": {},
   "outputs": [],
   "source": [
    "def custom_heuristic(titanic_data):\n",
    "    predictions = {}\n",
    "    df = pandas.read_csv(file_path)\n",
    "    for passenger_index, passenger in df.iterrows():\n",
    "        passenger_id = passenger['PassengerId']\n",
    "        if passenger['Sex'] == 'female' or (passenger['Pclass']==1 and  passenger['Age']<18):\n",
    "            predictions[passenger['PassengerId']] = 1\n",
    "        else :\n",
    "            predictions[passenger['PassengerId']]=0\n",
    "    return predictions\n"
   ]
  },
  {
   "cell_type": "markdown",
   "metadata": {},
   "source": [
    "\n",
    "    For this exercise, you need to write a custom heuristic that will take\n",
    "    in some combination of the passenger's attributes and predict if the passenger\n",
    "    survived the Titanic diaster.\n",
    "\n",
    "    Can your custom heuristic beat 80% accuracy?\n",
    "    \n",
    "    The available attributes are:\n",
    "    Pclass          Passenger Class\n",
    "                    (1 = 1st; 2 = 2nd; 3 = 3rd)\n",
    "    Name            Name\n",
    "    Sex             Sex\n",
    "    Age             Age\n",
    "    SibSp           Number of Siblings/Spouses Aboard\n",
    "    Parch           Number of Parents/Children Aboard\n",
    "    Ticket          Ticket Number\n",
    "    Fare            Passenger Fare\n",
    "    Cabin           Cabin\n",
    "    Embarked        Port of Embarkation\n",
    "                    (C = Cherbourg; Q = Queenstown; S = Southampton)\n",
    "                    \n",
    "    SPECIAL NOTES:\n",
    "    Pclass is a proxy for socioeconomic status (SES)\n",
    "    1st ~ Upper; 2nd ~ Middle; 3rd ~ Lower\n",
    "\n",
    "    Age is in years; fractional if age less than one\n",
    "    If the age is estimated, it is in the form xx.5\n",
    "\n",
    "    With respect to the family relation variables (i.e. SibSp and Parch)\n",
    "    some relations were ignored. The following are the definitions used\n",
    "    for SibSp and Parch.\n",
    "\n",
    "    Sibling:  brother, sister, stepbrother, or stepsister of passenger aboard Titanic\n",
    "    Spouse:   husband or wife of passenger aboard Titanic (mistresses and fiancees ignored)\n",
    "    Parent:   mother or father of passenger aboard Titanic\n",
    "    Child:    son, daughter, stepson, or stepdaughter of passenger aboard Titanic"
   ]
  },
  {
   "cell_type": "code",
   "execution_count": 55,
   "metadata": {},
   "outputs": [],
   "source": [
    "def custom_heuristic(titanic_data):\n",
    "    predictions = {}\n",
    "    df = pandas.read_csv(file_path)\n",
    "    for passenger_index, passenger in df.iterrows():\n",
    "        passenger_id = passenger['PassengerId']\n",
    "        # default assumption: the passenger perished\n",
    "        predictions[passenger_id] = 0\n",
    "        # assume that all women and children not in 3rd class survived\n",
    "        if (passenger['Sex']=='female' or passenger['Age'] < 15) and passenger['Pclass'] != 3:\n",
    "            predictions[passenger_id] = 1\n",
    "    return predictions"
   ]
  },
  {
   "cell_type": "code",
   "execution_count": null,
   "metadata": {},
   "outputs": [],
   "source": []
  }
 ],
 "metadata": {
  "kernelspec": {
   "display_name": "Python 3",
   "language": "python",
   "name": "python3"
  },
  "language_info": {
   "codemirror_mode": {
    "name": "ipython",
    "version": 3
   },
   "file_extension": ".py",
   "mimetype": "text/x-python",
   "name": "python",
   "nbconvert_exporter": "python",
   "pygments_lexer": "ipython3",
   "version": "3.7.4"
  }
 },
 "nbformat": 4,
 "nbformat_minor": 2
}
