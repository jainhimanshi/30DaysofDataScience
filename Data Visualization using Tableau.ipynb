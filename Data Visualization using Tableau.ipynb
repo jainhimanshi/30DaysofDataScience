{
 "cells": [
  {
   "cell_type": "markdown",
   "metadata": {},
   "source": [
    "Data visualization Intro:"
   ]
  },
  {
   "cell_type": "code",
   "execution_count": 1,
   "metadata": {},
   "outputs": [],
   "source": [
    "#Data Visualization:----effective communication of information we have received from data."
   ]
  },
  {
   "cell_type": "code",
   "execution_count": 1,
   "metadata": {},
   "outputs": [],
   "source": [
    "#Data Types:\n",
    "#Numeric data: Exact data--can be continous(within certain range) or discrete.\n",
    "#categorical data : can be hometown,team.They dont have a mathematical meaning but can have numerical numbers.(nominal/ordinal)\n",
    "#Time series data : data collected over repeated measurements over time.Similear like numeric but has some order."
   ]
  },
  {
   "cell_type": "code",
   "execution_count": 2,
   "metadata": {},
   "outputs": [],
   "source": [
    "#if we are concerned with only one column/one variable relation:\n",
    "    #if quantative data-histogram\n",
    "    #if categorical data- bar chart\n",
    "#if we are dealing with more than one variable then:\n",
    "    #go for scatter plot."
   ]
  },
  {
   "cell_type": "code",
   "execution_count": 3,
   "metadata": {},
   "outputs": [],
   "source": [
    "#CORRELATION COEFFICIENT::\n",
    "    #only for linear relationships.\n",
    "    #It tells me strength and direction of a relationship.\n",
    "    #usually, strong =(0.7<=|r|<=1.0),  moderate=(0.3<=|r|<0.7),  weak=(0.0<=|r|<0.3)"
   ]
  },
  {
   "cell_type": "markdown",
   "metadata": {},
   "source": [
    "Visualization process:"
   ]
  },
  {
   "cell_type": "code",
   "execution_count": 5,
   "metadata": {},
   "outputs": [],
   "source": [
    "#five main essentials you have to follow for visualizing anything on earth:\\\n",
    "    #context : customer should know what she will get by this visual.\n",
    "    #decide visual display  : what you will use -line plot/bar chart / histogram etc.\n",
    "    #eliminate junk and focus on what you want  : you should delete everything which is not required for your visualization.\n",
    "    #design : you should choose a simple easy design which is understandable by everyone.\n",
    "    #tell a story with your visual : you should be able to convey every insight you have plotted."
   ]
  },
  {
   "cell_type": "code",
   "execution_count": 6,
   "metadata": {},
   "outputs": [],
   "source": [
    "#Process:\n",
    "    #Extract : get the data.\n",
    "    #clean : remove junk.\n",
    "    #Explore : get familiar with data. \n",
    "    #analyse : analyse everything.\n",
    "    #share : share your insights with third person through visuals.\n",
    "    \n",
    "#Extract + clean + explore + analyse : Exploratory analysis : means you are finding your own answers/insights.\n",
    "#Share : Exaplainotary analysis : explaining the third person your hidden insights and results - should be visually applealing and accurate.\n"
   ]
  },
  {
   "cell_type": "code",
   "execution_count": 7,
   "metadata": {},
   "outputs": [],
   "source": [
    "#Data ink ratio : \n",
    "    #how much ink you have used to descibe your data / how much ink is used to describe everything else.\n",
    "    #Data ink ration - 1/chart junk - better the visual."
   ]
  },
  {
   "cell_type": "code",
   "execution_count": 8,
   "metadata": {},
   "outputs": [],
   "source": [
    "#Lie factor :\n",
    "    #lie factor is degree to which visualisation misinterprets the data value being plotted.\n",
    "    #lie factor = change in data visual(graphic)/actual data change\n",
    "    #If lie factor > 1 ,means your data is misleading."
   ]
  },
  {
   "cell_type": "code",
   "execution_count": 9,
   "metadata": {},
   "outputs": [],
   "source": [
    "#Bad visuals can be avoided by:\n",
    "    #Maintaining a large data-ink ratio IE LESS CHART JUNK and removing unnecessary items from visuals.\n",
    "    #Choosing visual encodings that work to highlight insights.\n",
    "    #Maintaining data Integrity in the visual.\n",
    "\n",
    "#For explanatory visuals:\n",
    "    #Focus the audience's attention on the insight you want them to act on.\n",
    "    #Use color only when necessary. Simple is often better.\n",
    "    #Tell a story. More on this ahead!\n",
    "    \n",
    "#Telling stories with data follows these steps:\n",
    "    #Start with a Question\n",
    "    #Repetition is a Good Thing\n",
    "    #Highlight the Answer\n",
    "    #Call Your Audience To Action"
   ]
  },
  {
   "cell_type": "markdown",
   "metadata": {},
   "source": [
    "Data visualization in Tableau :"
   ]
  },
  {
   "cell_type": "code",
   "execution_count": 1,
   "metadata": {},
   "outputs": [],
   "source": [
    "#Tableau : \n",
    "    #Tableau is basically that visualizes data.\n",
    "\n",
    "#Things you will learn : \n",
    "    #I. Connecting to Data : collecting data from various sources and importing it into tableau.(Tableau is also connected with cloud based  data storage.)\n",
    "    #II. Combining Data : combining data taht is obtained from multiple sources.\n",
    "    #III. Worksheets : the visuals will be stored in worksheet.\n",
    "    #IV. Aggregations : Tableau performs aggregations of our data by default.\n",
    "    #V. Hierarchies : we can seperate and ask questions at any level.\n",
    "    #VI. Marks & Filters : you can filter your data and apply settings/changes on seperate blocks.--Same like WHERE in SQL.\n",
    "    #VII. Show Me :  what our ending visual will look like.\n",
    "    #VIII. Small Multiples & Dual Axis : used when we need to share axis.\n",
    "    #IX. Groups & Sets : we can categorize our data into two ways.\n",
    "    #X. Calculated Fields : like if you want to add another column and right at the time of visulkaization you can do it here.\n",
    "    #XI. Table Calculations : we compare our data over time and over group."
   ]
  },
  {
   "cell_type": "code",
   "execution_count": 2,
   "metadata": {},
   "outputs": [],
   "source": [
    " #Tableau guesses if numerical data is discrete or continuous and indicates this with color, blue for discrete \n",
    "    #and green for continuous. "
   ]
  },
  {
   "cell_type": "code",
   "execution_count": 3,
   "metadata": {},
   "outputs": [],
   "source": [
    "#Combining the data :\n",
    "\n",
    "#Often you're going to want to combine data from multiple sources, such as different tables in a database or sheets in\n",
    "    #an Excel file. For example, you might want to include the information from the People sheet with the Orders sheet \n",
    "    #so you can analyze the performance of each salesperson.\n",
    "\n",
    "#Union\n",
    "    #If you drag People below Orders, you get a union. Unions stack the data on top of each other, the second sheet ends up \n",
    "    #being appended to the end of the first sheet. This works great if you have multiple sheets with columns in common as the \n",
    "    #columns will match up. However if the columns are different, then you'll get a lot \"nulls\" because columns are created \n",
    "    #for both sheets, but the first sheet doesn't have data for the second sheet'scolumns.\n",
    "    \n",
    "#Joins\n",
    "    #If you drag the second sheet or table to the top panel but not on top of the first sheet, you'll get a join. \n",
    "    #Instead of stacking the data on top of each other, joins combines data from the sheets based on common values.\n",
    "    #In our case, both Orders and People have a column Region that we can use for the common values.\n",
    "    #You can click on the join symbol to change the type of join being performed. In this case you can also select the \n",
    "    #\"left inner join.\" The normal inner join combines only data that is common, but the left inner join returns all the data \n",
    "    #in the original sheet setting rows not common to null.\n"
   ]
  },
  {
   "cell_type": "code",
   "execution_count": null,
   "metadata": {},
   "outputs": [],
   "source": [
    "#Worksheets : \n",
    "\n",
    "#There are three main products that you can create using Tableau : \n",
    "    #Worksheets (single visualization)\n",
    "    #Dashboards (2 worksheets)\n",
    "    #Stories (multiple worksheets alltogether)\n",
    "\n",
    "# Click on “Sheet1” in the bottom bar. First I'll introduce you to the sheet interface.\n",
    "# On the left you’ll see your data columns (also called \"fields\"), split between dimensions and measures.\n",
    "#Categorical, qualitative, and time data are listed as dimensions. Quantitative numerical data is listed as measure. \n",
    "#You'll notice the dimensions are colored blue and the measures are green.(blue for discrete data and green for continuous data.\n",
    "#Dimensions aren't required to be discrete and measures aren't required to be continuous.They are convertible.\n",
    "#Tableau automatically aggregates measures, but not dimensions\n",
    "#Dimensions are used to group the data and set the level of granularity.\n",
    "#You'll see in the rows shelf the Number of Records field turned into a little pill that says SUM(Number of Records). \n",
    "    #This is called an aggregation, it is aggregating the data for each market and summing the values. You can hover over the bars to see the exact sum for each market.\n"
   ]
  }
 ],
 "metadata": {
  "kernelspec": {
   "display_name": "Python 3",
   "language": "python",
   "name": "python3"
  },
  "language_info": {
   "codemirror_mode": {
    "name": "ipython",
    "version": 3
   },
   "file_extension": ".py",
   "mimetype": "text/x-python",
   "name": "python",
   "nbconvert_exporter": "python",
   "pygments_lexer": "ipython3",
   "version": "3.7.6"
  }
 },
 "nbformat": 4,
 "nbformat_minor": 4
}
