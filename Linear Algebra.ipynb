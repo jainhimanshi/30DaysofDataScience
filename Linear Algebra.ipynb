{
 "cells": [
  {
   "cell_type": "code",
   "execution_count": 1,
   "metadata": {},
   "outputs": [],
   "source": [
    "import numpy as np\n",
    "import pandas as pd"
   ]
  },
  {
   "cell_type": "code",
   "execution_count": 21,
   "metadata": {},
   "outputs": [
    {
     "name": "stdout",
     "output_type": "stream",
     "text": [
      "[[1 2]\n",
      " [3 4]]\n"
     ]
    }
   ],
   "source": [
    "#create a  matrix\n",
    "a = np.matrix([[1, 2], [3, 4]])  # using array of array\n",
    "print('2x2 matrix is:\\n', a)"
   ]
  },
  {
   "cell_type": "code",
   "execution_count": 22,
   "metadata": {},
   "outputs": [
    {
     "name": "stdout",
     "output_type": "stream",
     "text": [
      "[[0.783411   0.68564194]\n",
      " [0.5933236  0.09910325]]\n"
     ]
    }
   ],
   "source": [
    "# using numpy.random.rand(row, column) to generate array of random element\n",
    "c = np.matrix(np.random.rand(2,2), dtype=np.float32)\n",
    "# considering the data-type as float\n",
    "print(c)"
   ]
  },
  {
   "cell_type": "code",
   "execution_count": 23,
   "metadata": {},
   "outputs": [
    {
     "name": "stdout",
     "output_type": "stream",
     "text": [
      "[[21 22 23]\n",
      " [24 25 26]\n",
      " [27 28 29]]\n"
     ]
    }
   ],
   "source": [
    "#create a 3*3 matrix\n",
    "A= np.arange(21,30).reshape(3,3)\n",
    "print(A)"
   ]
  },
  {
   "cell_type": "code",
   "execution_count": 24,
   "metadata": {},
   "outputs": [
    {
     "data": {
      "text/plain": [
       "array([[21, 24, 27],\n",
       "       [22, 25, 28],\n",
       "       [23, 26, 29]])"
      ]
     },
     "execution_count": 24,
     "metadata": {},
     "output_type": "execute_result"
    }
   ],
   "source": [
    "#take the transpose\n",
    "A.transpose()"
   ]
  },
  {
   "cell_type": "code",
   "execution_count": 30,
   "metadata": {},
   "outputs": [
    {
     "name": "stdout",
     "output_type": "stream",
     "text": [
      "AB is  [[2250 2316 2382]\n",
      " [2556 2631 2706]\n",
      " [2862 2946 3030]]\n",
      "BA is  [[2310 2406 2502]\n",
      " [2526 2631 2736]\n",
      " [2742 2856 2970]]\n"
     ]
    }
   ],
   "source": [
    "#matrix multiplication \n",
    "A=np.arange(21,30).reshape(3,3) \n",
    "B=np.arange(31,40).reshape(3,3)\n",
    "print(\"AB is \",A.dot(B))\n",
    "print(\"BA is \",B.dot(A))"
   ]
  },
  {
   "cell_type": "code",
   "execution_count": 33,
   "metadata": {},
   "outputs": [
    {
     "data": {
      "text/plain": [
       "-2.0000000000000004"
      ]
     },
     "execution_count": 33,
     "metadata": {},
     "output_type": "execute_result"
    }
   ],
   "source": [
    "#find the determinant \n",
    "np.linalg.det(a)"
   ]
  },
  {
   "cell_type": "code",
   "execution_count": 35,
   "metadata": {},
   "outputs": [
    {
     "data": {
      "text/plain": [
       "array([[-6.77233027e+13,  6.09509724e+14, -1.01584954e+15,\n",
       "         4.74063119e+14],\n",
       "       [-3.26200575e+15,  3.83765382e+15,  2.11070960e+15,\n",
       "        -2.68635767e+15],\n",
       "       [ 6.72718140e+15, -9.50383681e+15, -1.17387058e+15,\n",
       "         3.95052599e+15],\n",
       "       [-3.39745235e+15,  5.05667327e+15,  7.90105198e+13,\n",
       "        -1.73823144e+15]])"
      ]
     },
     "execution_count": 35,
     "metadata": {},
     "output_type": "execute_result"
    }
   ],
   "source": [
    "#Code for inverse in python\n",
    "\n",
    "#create an array arr1 \n",
    "arr1 = np.arange(5,21).reshape(4,4)\n",
    "#find the inverse \n",
    "np.linalg.inv(arr1)"
   ]
  },
  {
   "cell_type": "code",
   "execution_count": null,
   "metadata": {},
   "outputs": [],
   "source": []
  }
 ],
 "metadata": {
  "kernelspec": {
   "display_name": "Python 3",
   "language": "python",
   "name": "python3"
  },
  "language_info": {
   "codemirror_mode": {
    "name": "ipython",
    "version": 3
   },
   "file_extension": ".py",
   "mimetype": "text/x-python",
   "name": "python",
   "nbconvert_exporter": "python",
   "pygments_lexer": "ipython3",
   "version": "3.7.6"
  }
 },
 "nbformat": 4,
 "nbformat_minor": 4
}
