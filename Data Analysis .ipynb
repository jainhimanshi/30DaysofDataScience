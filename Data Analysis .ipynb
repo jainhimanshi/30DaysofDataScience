{
 "cells": [
  {
   "cell_type": "code",
   "execution_count": 1,
   "metadata": {},
   "outputs": [],
   "source": [
    "#Data analysis:\n",
    "#Statistics is very important in analysis because it gives out useful inferences from data .\n",
    "#Statistical sinificance test:test which is used to make assumptions about data distributions.\n"
   ]
  },
  {
   "cell_type": "code",
   "execution_count": 2,
   "metadata": {},
   "outputs": [],
   "source": [
    "#Normal distribution:\n",
    "#Example:Gaussian distribution/bell curve/Normal distributions.\n",
    "#Normal distribution are symmetric about their mean.\n",
    "#we deal with 2 parameters : mean,standard deviation\n",
    "#Y = { 1/sqrt(2πσ2)} * e-(x - μ)2/2σ2"
   ]
  },
  {
   "cell_type": "code",
   "execution_count": 3,
   "metadata": {},
   "outputs": [],
   "source": [
    "#t-test(statistical significance test):\n",
    "#t-test is used to accept/reject a null hypothesis which is basically we try to  disapprove a statement by running a test.\n",
    "#t test is specified by a number that helps us to reject/accept a null hypothesis."
   ]
  },
  {
   "cell_type": "code",
   "execution_count": 4,
   "metadata": {},
   "outputs": [],
   "source": [
    "#welch's two sample test:\n",
    "#we compute a t statistic using equation:\n",
    "#t=(mean1-mean2)/sqrt[(variance1/size1)+(variance2/size2)]\n",
    "#we set p critical ,so if we p<pcrticial then we reject the null hypothesis \n",
    "                                 #else accpet the null hypothesis.\n",
    "    "
   ]
  },
  {
   "cell_type": "code",
   "execution_count": 5,
   "metadata": {},
   "outputs": [],
   "source": [
    "#doing above everything in python\n",
    "import scipy.stats\n",
    "scipy.stats.ttest_ind(list1,list2,equal_var=False) #it will return a tuple.(first value is t value and second is p value)"
   ]
  },
  {
   "cell_type": "markdown",
   "metadata": {},
   "source": [
    "Performs a t-test on two sets of baseball data (left-handed and right-handed hitters).\n",
    "\n",
    "    You will be given a csv file that has three columns.  A player's\n",
    "    name, handedness (L for lefthanded or R for righthanded) and their\n",
    "    career batting average (called 'avg'). You can look at the csv\n",
    "    file by downloading the baseball_stats file from Downloadables below. \n",
    "    \n",
    "    Write a function that will read that the csv file into a pandas data frame,\n",
    "    and run Welch's t-test on the two cohorts defined by handedness.\n",
    "    \n",
    "    One cohort should be a data frame of right-handed batters. And the other\n",
    "    cohort should be a data frame of left-handed batters.\n",
    "    \n",
    "    \n",
    "    With a significance level of 95%, if there is no difference\n",
    "    between the two cohorts, return a tuple consisting of\n",
    "    True, and then the tuple returned by scipy.stats.ttest.  \n",
    "    \n",
    "    If there is a difference, return a tuple consisting of\n",
    "    False, and then the tuple returned by scipy.stats.ttest.\n",
    "    \n",
    "    For example, the tuple that you return may look like:\n",
    "    (True, (9.93570222, 0.000023))"
   ]
  },
  {
   "cell_type": "code",
   "execution_count": 19,
   "metadata": {},
   "outputs": [
    {
     "name": "stdout",
     "output_type": "stream",
     "text": [
      "(False, Ttest_indResult(statistic=9.935702226242094, pvalue=3.810274225888738e-23))\n"
     ]
    }
   ],
   "source": [
    "import pandas as pd\n",
    "def compare_avg():\n",
    "        baseball_df=pd.read_csv(\"baseball_stats.csv\")\n",
    "        baseball_df_L=baseball_df[baseball_df['handedness']=='L']\n",
    "        baseball_df_R=baseball_df[baseball_df['handedness']=='R']\n",
    "\n",
    "        result=scipy.stats.ttest_ind(baseball_df_L['avg'],baseball_df_R['avg'],equal_var=False)\n",
    "#produving output in desired format:\n",
    "        if result[1]<=0.05:\n",
    "            return (False,result)\n",
    "        else:\n",
    "            return (True,result)\n",
    "result=compare_avg()\n",
    "print(result)"
   ]
  },
  {
   "cell_type": "code",
   "execution_count": 20,
   "metadata": {},
   "outputs": [],
   "source": [
    "#shapiro wilk test: for non normal data.\n",
    "#w,p=scipy.stats.shapiro(data)"
   ]
  },
  {
   "cell_type": "code",
   "execution_count": 21,
   "metadata": {},
   "outputs": [],
   "source": [
    "#Machine Learning: \n",
    "#Branch of AI that uses existing data to predict future\n",
    "#stats vs machine learning : stats is basically focused on analysing existing data and drawing conclusions.\n",
    "#machine learning is bascially making predicting. "
   ]
  },
  {
   "cell_type": "code",
   "execution_count": 22,
   "metadata": {},
   "outputs": [],
   "source": [
    "#types of ML:\n",
    "#Supervised learning: Basically we train the model using  input-output .and then we use the model for prediciting.\n",
    "#classification,regression.\n",
    "#categrozing mails to spam.\n",
    "#unsupervised learing : we dont have structured data.instead we have data point and we put togetgehr similar data point and try to undertsand the structure."
   ]
  },
  {
   "cell_type": "code",
   "execution_count": null,
   "metadata": {},
   "outputs": [],
   "source": [
    "\n"
   ]
  }
 ],
 "metadata": {
  "kernelspec": {
   "display_name": "Python 3",
   "language": "python",
   "name": "python3"
  },
  "language_info": {
   "codemirror_mode": {
    "name": "ipython",
    "version": 3
   },
   "file_extension": ".py",
   "mimetype": "text/x-python",
   "name": "python",
   "nbconvert_exporter": "python",
   "pygments_lexer": "ipython3",
   "version": "3.7.6"
  }
 },
 "nbformat": 4,
 "nbformat_minor": 4
}
