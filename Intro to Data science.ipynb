{
 "cells": [
  {
   "cell_type": "markdown",
   "metadata": {},
   "source": [
    "# Day1"
   ]
  },
  {
   "cell_type": "code",
   "execution_count": 1,
   "metadata": {},
   "outputs": [
    {
     "name": "stdout",
     "output_type": "stream",
     "text": [
      "1.16.5\n"
     ]
    }
   ],
   "source": [
    "#Numpy:\n",
    "import numpy as np\n",
    "#check numpy version:\n",
    "print(np.version.version)"
   ]
  },
  {
   "cell_type": "code",
   "execution_count": 2,
   "metadata": {},
   "outputs": [
    {
     "name": "stdout",
     "output_type": "stream",
     "text": [
      "3.0\n",
      "3.0\n",
      "1.4142135623730951\n"
     ]
    }
   ],
   "source": [
    "#calculationg mean,median and standard deviation on an array using NumPy:\n",
    "numbers_array=(1,2,3,4,5)\n",
    "print(np.mean(numbers_array))\n",
    "print(np.median(numbers_array))\n",
    "print(np.std(numbers_array))"
   ]
  },
  {
   "cell_type": "code",
   "execution_count": 3,
   "metadata": {},
   "outputs": [
    {
     "name": "stdout",
     "output_type": "stream",
     "text": [
      "[1. 2. 3. 4.]\n",
      "2.0\n",
      "[1. 2.]\n",
      "5.0\n",
      "[1. 5. 3. 4.]\n",
      "[6. 4. 9.]\n",
      "[-4.  0. -3.]\n",
      "[ 5.  4. 18.]\n"
     ]
    }
   ],
   "source": [
    "#Playing around with NumPy array ::\n",
    "arr=np.array([1,2,3,4],float)\n",
    "print(arr)\n",
    "\n",
    "#You can index, slice, and manipulate a Numpy array much like you would with a Python list.\n",
    "print(arr[1])\n",
    "print(arr[:2])\n",
    "arr[1] = 5.0\n",
    "print(arr[1])\n",
    "print(arr)\n",
    "\n",
    "if True:\n",
    "    array_1 = np.array([1, 2, 3], float)\n",
    "    array_2 = np.array([5, 2, 6], float)\n",
    "    print(array_1 + array_2)\n",
    "    print(array_1 - array_2)\n",
    "    print(array_1 * array_2)\n"
   ]
  },
  {
   "cell_type": "code",
   "execution_count": 4,
   "metadata": {},
   "outputs": [
    {
     "name": "stdout",
     "output_type": "stream",
     "text": [
      "[[1. 2. 3. 4.]\n",
      " [5. 6. 7. 8.]]\n",
      "[[0. 2. 3. 4.]\n",
      " [5. 6. 7. 8.]]\n",
      "[5. 6. 7. 8.]\n",
      "[3. 7.]\n",
      "[[0. 2. 3. 4.]\n",
      " [5. 6. 7. 8.]]\n",
      "[[ 6.  8.]\n",
      " [10. 12.]]\n",
      "[[-4. -4.]\n",
      " [-4. -4.]]\n",
      "[[ 5. 12.]\n",
      " [21. 32.]]\n"
     ]
    }
   ],
   "source": [
    "# a 2D array/Matrix\n",
    "two_D_array=np.array([[1,2,3,4],[5,6,7,8]],float)\n",
    "print(two_D_array)\n",
    "\n",
    "two_D_array[0][0]=0\n",
    "print(two_D_array)\n",
    "print(two_D_array[1, :])\n",
    "print(two_D_array[:, 2])\n",
    "print(two_D_array[:,:])\n",
    "\n",
    "# Change False to True to see Matrix arithmetics in action\n",
    "if True:\n",
    "    array_1 = np.array([[1, 2], [3, 4]], float)\n",
    "    array_2 = np.array([[5, 6], [7, 8]], float)\n",
    "    print(array_1 + array_2)\n",
    "    print(array_1 - array_2)\n",
    "    print(array_1 * array_2)"
   ]
  },
  {
   "cell_type": "code",
   "execution_count": 5,
   "metadata": {},
   "outputs": [
    {
     "name": "stdout",
     "output_type": "stream",
     "text": [
      "[[6.]\n",
      " [7.]\n",
      " [8.]]\n",
      "2.0\n",
      "7.0\n",
      "[44.]\n"
     ]
    }
   ],
   "source": [
    "#In addition to the standard arthimetic operations, Numpy also has a range of other mathematical operations that you can apply\n",
    "#to Numpy arrays, such as mean,median,std and dot product.\n",
    "if True:\n",
    "    array_1 = np.array([1, 2, 3], float)\n",
    "    array_2 = np.array([[6], [7], [8]], float)\n",
    "    print(array_2)\n",
    "    print(np.mean(array_1))\n",
    "    print(np.mean(array_2))\n",
    "    print(np.dot(array_1, array_2))\n"
   ]
  },
  {
   "cell_type": "markdown",
   "metadata": {},
   "source": [
    "# Day 2:"
   ]
  },
  {
   "cell_type": "code",
   "execution_count": 6,
   "metadata": {},
   "outputs": [
    {
     "data": {
      "text/html": [
       "<div>\n",
       "<style scoped>\n",
       "    .dataframe tbody tr th:only-of-type {\n",
       "        vertical-align: middle;\n",
       "    }\n",
       "\n",
       "    .dataframe tbody tr th {\n",
       "        vertical-align: top;\n",
       "    }\n",
       "\n",
       "    .dataframe thead th {\n",
       "        text-align: right;\n",
       "    }\n",
       "</style>\n",
       "<table border=\"1\" class=\"dataframe\">\n",
       "  <thead>\n",
       "    <tr style=\"text-align: right;\">\n",
       "      <th></th>\n",
       "      <th>Name</th>\n",
       "      <th>Age</th>\n",
       "      <th>Fare</th>\n",
       "      <th>Survived</th>\n",
       "    </tr>\n",
       "  </thead>\n",
       "  <tbody>\n",
       "    <tr>\n",
       "      <td>0</td>\n",
       "      <td>Hima</td>\n",
       "      <td>21</td>\n",
       "      <td>NaN</td>\n",
       "      <td>yes</td>\n",
       "    </tr>\n",
       "    <tr>\n",
       "      <td>1</td>\n",
       "      <td>mickeu</td>\n",
       "      <td>22</td>\n",
       "      <td>200.0</td>\n",
       "      <td>yes</td>\n",
       "    </tr>\n",
       "  </tbody>\n",
       "</table>\n",
       "</div>"
      ],
      "text/plain": [
       "     Name  Age   Fare Survived\n",
       "0    Hima   21    NaN      yes\n",
       "1  mickeu   22  200.0      yes"
      ]
     },
     "execution_count": 6,
     "metadata": {},
     "output_type": "execute_result"
    }
   ],
   "source": [
    "#Pandas::\n",
    "import pandas as pd\n",
    "#making a dataframe:\n",
    "d={'Name':['Hima','mickeu'],\n",
    "  'Age':[21,22],\n",
    "   'Fare':pd.Series([200],index=[1]),\n",
    "  'Survived':pd.Series(['yes','yes'])}\n",
    "df=pd.DataFrame(d)\n",
    "df"
   ]
  },
  {
   "cell_type": "code",
   "execution_count": 7,
   "metadata": {},
   "outputs": [
    {
     "name": "stdout",
     "output_type": "stream",
     "text": [
      "0           Dave\n",
      "1      Cheng-Han\n",
      "2        Udacity\n",
      "3             42\n",
      "4    -1789710578\n",
      "dtype: object\n",
      "Instructor                 Dave\n",
      "Curriculum Manager    Cheng-Han\n",
      "Course Number               359\n",
      "Power Level                9001\n",
      "dtype: object\n",
      "Cockroach    False\n",
      "Fish         False\n",
      "Mini Pig     False\n",
      "Puppy         True\n",
      "Kitten        True\n",
      "dtype: bool\n",
      "Puppy     4\n",
      "Kitten    5\n",
      "dtype: int64\n"
     ]
    }
   ],
   "source": [
    "#Playing arounf with series::\n",
    "series = pd.Series(['Dave', 'Cheng-Han', 'Udacity', 42, -1789710578])\n",
    "print(series)\n",
    "series = pd.Series(['Dave', 'Cheng-Han', 359, 9001],index=['Instructor', 'Curriculum Manager','Course Number', 'Power Level'])\n",
    "print(series)\n",
    "if True:\n",
    "    cuteness = pd.Series([1, 2, 3, 4, 5], index=['Cockroach', 'Fish', 'Mini Pig',\n",
    "                                                 'Puppy', 'Kitten'])\n",
    "    print(cuteness > 3)\n",
    "    print(cuteness[cuteness > 3])"
   ]
  },
  {
   "cell_type": "code",
   "execution_count": 8,
   "metadata": {
    "scrolled": false
   },
   "outputs": [
    {
     "name": "stdout",
     "output_type": "stream",
     "text": [
      "     Name  Age   Fare Survived\n",
      "0    Hima   21    NaN      yes\n",
      "1  mickeu   22  200.0      yes\n",
      "Name         object\n",
      "Age           int64\n",
      "Fare        float64\n",
      "Survived     object\n",
      "dtype: object\n",
      "<bound method NDFrame.describe of      Name  Age   Fare Survived\n",
      "0    Hima   21    NaN      yes\n",
      "1  mickeu   22  200.0      yes>\n"
     ]
    }
   ],
   "source": [
    "#Pandas also has various functions that will help you understand some basicinformation about your data frame. Some of these functions are:\n",
    "#1) dtypes: to get the datatype for each column\n",
    "#2) describe: useful for seeing basic statistics of the dataframe's numerical  columns\n",
    "#3) head: displays the first five rows of the dataset\n",
    "#4) tail: displays the last five rows of the dataset\n",
    "print(df.head())\n",
    "print(df.dtypes)\n",
    "print(df.describe)"
   ]
  },
  {
   "cell_type": "code",
   "execution_count": 9,
   "metadata": {},
   "outputs": [
    {
     "name": "stdout",
     "output_type": "stream",
     "text": [
      "    country_name  gold  silver  bronze\n",
      "0   Russian Fed.    13      11       9\n",
      "1         Norway    11       5      10\n",
      "2         Canada    10      10       5\n",
      "3  United States     9       7      12\n",
      "4    Netherlands     8       7       9\n"
     ]
    }
   ],
   "source": [
    "#Example :: Create a sample Dataframe\n",
    "countries = ['Russian Fed.', 'Norway', 'Canada', 'United States',\n",
    "                 'Netherlands', 'Germany', 'Switzerland', 'Belarus',\n",
    "                 'Austria', 'France', 'Poland', 'China', 'Korea', \n",
    "                 'Sweden', 'Czech Republic', 'Slovenia', 'Japan',\n",
    "                 'Finland', 'Great Britain', 'Ukraine', 'Slovakia',\n",
    "                 'Italy', 'Latvia', 'Australia', 'Croatia', 'Kazakhstan']\n",
    "\n",
    "gold = [13, 11, 10, 9, 8, 8, 6, 5, 4, 4, 4, 3, 3, 2, 2, 2, 1, 1, 1, 1, 1, 0, 0, 0, 0, 0]\n",
    "silver = [11, 5, 10, 7, 7, 6, 3, 0, 8, 4, 1, 4, 3, 7, 4, 2, 4, 3, 1, 0, 0, 2, 2, 2, 1, 0]\n",
    "bronze = [9, 10, 5, 12, 9, 5, 2, 1, 5, 7, 1, 2, 2, 6, 2, 4, 3, 1, 2, 1, 0, 6, 2, 1, 0, 1]\n",
    "\n",
    "d={\"country_name\":countries,\"gold\":gold,\"silver\":silver,\"bronze\":bronze}\n",
    "olympic_medal_counts_df=pd.DataFrame(d)\n",
    "print(olympic_medal_counts_df.head())"
   ]
  },
  {
   "cell_type": "code",
   "execution_count": 10,
   "metadata": {},
   "outputs": [
    {
     "name": "stdout",
     "output_type": "stream",
     "text": [
      "0    Russian Fed.\n",
      "1          Norway\n",
      "Name: country_name, dtype: object\n",
      "\n",
      "country_name    Norway\n",
      "gold                11\n",
      "silver               5\n",
      "bronze              10\n",
      "Name: 1, dtype: object\n",
      "\n",
      "   country_name  gold  silver  bronze\n",
      "0  Russian Fed.    13      11       9\n",
      "\n"
     ]
    },
    {
     "data": {
      "text/html": [
       "<div>\n",
       "<style scoped>\n",
       "    .dataframe tbody tr th:only-of-type {\n",
       "        vertical-align: middle;\n",
       "    }\n",
       "\n",
       "    .dataframe tbody tr th {\n",
       "        vertical-align: top;\n",
       "    }\n",
       "\n",
       "    .dataframe thead th {\n",
       "        text-align: right;\n",
       "    }\n",
       "</style>\n",
       "<table border=\"1\" class=\"dataframe\">\n",
       "  <thead>\n",
       "    <tr style=\"text-align: right;\">\n",
       "      <th></th>\n",
       "      <th>Survived</th>\n",
       "      <th>Age</th>\n",
       "    </tr>\n",
       "  </thead>\n",
       "  <tbody>\n",
       "    <tr>\n",
       "      <td>0</td>\n",
       "      <td>yes</td>\n",
       "      <td>21</td>\n",
       "    </tr>\n",
       "    <tr>\n",
       "      <td>1</td>\n",
       "      <td>yes</td>\n",
       "      <td>22</td>\n",
       "    </tr>\n",
       "  </tbody>\n",
       "</table>\n",
       "</div>"
      ],
      "text/plain": [
       "  Survived  Age\n",
       "0      yes   21\n",
       "1      yes   22"
      ]
     },
     "execution_count": 10,
     "metadata": {},
     "output_type": "execute_result"
    }
   ],
   "source": [
    "#to get columns values\n",
    "print(olympic_medal_counts_df[\"country_name\"].head(2))\n",
    "print(\"\")\n",
    "print(olympic_medal_counts_df.loc[1])\n",
    "print(\"\")\n",
    "print(olympic_medal_counts_df[olympic_medal_counts_df['gold']>=13])\n",
    "print(\"\")\n",
    "df[[\"Survived\",\"Age\"]]"
   ]
  },
  {
   "cell_type": "code",
   "execution_count": 11,
   "metadata": {},
   "outputs": [
    {
     "name": "stdout",
     "output_type": "stream",
     "text": [
      "0    2010\n",
      "1    2011\n",
      "Name: year, dtype: int64\n",
      "\n",
      "   year  wins  losses\n",
      "0  2010    11       5\n",
      "1  2011     8       8\n"
     ]
    }
   ],
   "source": [
    "#You can think of a DataFrame as a group of Series that share an index.This makes it easy to select \n",
    "#specific columns that you want from the DataFrame. \n",
    "\n",
    "#Also a couple pointers:\n",
    "#1) Selecting a single column from the DataFrame will return a Series\n",
    "#2) Selecting multiple columns from the DataFrame will return a DataFrame\n",
    "if True:\n",
    "    data = {'year': [2010, 2011, 2012, 2011, 2012, 2010, 2011, 2012],\n",
    "            'team': ['Bears', 'Bears', 'Bears', 'Packers', 'Packers', 'Lions',\n",
    "                     'Lions', 'Lions'],\n",
    "            'wins': [11, 8, 10, 15, 11, 6, 10, 4],\n",
    "            'losses': [5, 8, 6, 1, 5, 10, 6, 12]}\n",
    "    football = pd.DataFrame(data)\n",
    "    print(football['year'].head(2))   # shorthand for football.year\n",
    "    print('')\n",
    "    print(football[['year', 'wins', 'losses']].head(2))"
   ]
  },
  {
   "cell_type": "code",
   "execution_count": 12,
   "metadata": {},
   "outputs": [
    {
     "name": "stdout",
     "output_type": "stream",
     "text": [
      "   year   team  wins  losses\n",
      "0  2010  Bears    11       5\n",
      "   year     team  wins  losses\n",
      "3  2011  Packers    15       1\n",
      "4  2012  Packers    11       5\n",
      "   year     team  wins  losses\n",
      "3  2011  Packers    15       1\n",
      "4  2012  Packers    11       5\n"
     ]
    }
   ],
   "source": [
    "#Row selection can be done through multiple ways.\n",
    "#Some of the basic and common methods are:\n",
    " #  1) Slicing\n",
    "  # 2) An individual index (through the functions iloc or loc)\n",
    "   #3) Boolean indexing\n",
    "#You can also combine multiple selection requirements through boolean\n",
    "#operators like & (and) or | (or)\n",
    "\n",
    "if True:\n",
    "    data = {'year': [2010, 2011, 2012, 2011, 2012, 2010, 2011, 2012],\n",
    "            'team': ['Bears', 'Bears', 'Bears', 'Packers', 'Packers', 'Lions',\n",
    "                     'Lions', 'Lions'],\n",
    "            'wins': [11, 8, 10, 15, 11, 6, 10, 4],\n",
    "            'losses': [5, 8, 6, 1, 5, 10, 6, 12]}\n",
    "    football = pd.DataFrame(data)\n",
    "    print(football.iloc[[0]])  #print(football.loc[[0]])\n",
    "    print(football[3:5])\n",
    "    print(football[(football.wins > 10) & (football.team == \"Packers\")])"
   ]
  },
  {
   "cell_type": "markdown",
   "metadata": {},
   "source": [
    "# Day 3"
   ]
  },
  {
   "cell_type": "code",
   "execution_count": 22,
   "metadata": {},
   "outputs": [
    {
     "data": {
      "text/plain": [
       "wins      9.375\n",
       "losses    6.625\n",
       "dtype: float64"
      ]
     },
     "execution_count": 22,
     "metadata": {},
     "output_type": "execute_result"
    }
   ],
   "source": [
    "#Pandas vectorised method:\n",
    "#gives us mean of values of each columns\n",
    "football_df[[\"wins\",\"losses\"]].apply(np.mean)"
   ]
  },
  {
   "cell_type": "code",
   "execution_count": 25,
   "metadata": {},
   "outputs": [
    {
     "name": "stdout",
     "output_type": "stream",
     "text": [
      "0    True\n",
      "1    True\n",
      "Name: wins, dtype: bool\n",
      "   wins  losses\n",
      "0  True   False\n",
      "1  True    True\n"
     ]
    }
   ],
   "source": [
    "#Map::\n",
    "#Map takes in single value and return single value::\n",
    "print(football_df[\"wins\"].map(lambda x: x>5).head(2))\n",
    "\n",
    "#if we want to apply it to whole dataframe::\n",
    "print(football_df.applymap(lambda x: x>5).head(2))"
   ]
  },
  {
   "cell_type": "code",
   "execution_count": 32,
   "metadata": {},
   "outputs": [
    {
     "name": "stdout",
     "output_type": "stream",
     "text": [
      "([2, 4, 6], [3, 5, 7])\n"
     ]
    },
    {
     "data": {
      "text/plain": [
       "array([ 8, 14, 20])"
      ]
     },
     "execution_count": 32,
     "metadata": {},
     "output_type": "execute_result"
    }
   ],
   "source": [
    "#Matrix multiplication using Numpy::\n",
    "a=([1,2])\n",
    "b=([2,4,6],[3,5,7])\n",
    "print(b)\n",
    "np.dot(a,b)"
   ]
  },
  {
   "cell_type": "code",
   "execution_count": null,
   "metadata": {},
   "outputs": [],
   "source": []
  }
 ],
 "metadata": {
  "kernelspec": {
   "display_name": "Python 3",
   "language": "python",
   "name": "python3"
  },
  "language_info": {
   "codemirror_mode": {
    "name": "ipython",
    "version": 3
   },
   "file_extension": ".py",
   "mimetype": "text/x-python",
   "name": "python",
   "nbconvert_exporter": "python",
   "pygments_lexer": "ipython3",
   "version": "3.7.4"
  }
 },
 "nbformat": 4,
 "nbformat_minor": 2
}
